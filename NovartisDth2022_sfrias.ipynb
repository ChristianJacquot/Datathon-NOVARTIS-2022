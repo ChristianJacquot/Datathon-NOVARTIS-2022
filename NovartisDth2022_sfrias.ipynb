{
  "nbformat": 4,
  "nbformat_minor": 0,
  "metadata": {
    "colab": {
      "provenance": [],
      "collapsed_sections": [
        "e9F-u946r0KB",
        "rV00sOOlsx9Z",
        "b1wzK72QV7UX",
        "AKw6-lgWWCjG",
        "jQ6DzJvJWXwP",
        "42Nzp5Fssqeu",
        "hmUZJT6ERuLm",
        "Si2p0RxXTOET",
        "qAREZ2Qefr_i",
        "Dtr9qOUzilJQ",
        "8RL0djGgxRNg",
        "GJPc7Uy00TXg",
        "HMHGr-QMG4Hp",
        "dKCNH0txHLrO",
        "t8peQBoUjEBj",
        "SO7OetQJWNkN",
        "o89Yz8laK1ay",
        "eoe1AcqJRmb2",
        "5x3ZBob5zcDQ",
        "EIUBR2ybYhte",
        "m1c9OTvr5zVh",
        "yll9qoUm8P2a"
      ]
    },
    "kernelspec": {
      "name": "python3",
      "display_name": "Python 3"
    },
    "language_info": {
      "name": "python"
    },
    "gpuClass": "standard"
  },
  "cells": [
    {
      "cell_type": "markdown",
      "source": [
        "#### Imports, configurations, constant/variables"
      ],
      "metadata": {
        "id": "e9F-u946r0KB"
      }
    },
    {
      "cell_type": "code",
      "source": [
        "# impòrts"
      ],
      "metadata": {
        "id": "_S-RNQfimeNl"
      },
      "execution_count": 1,
      "outputs": []
    },
    {
      "cell_type": "code",
      "execution_count": 2,
      "metadata": {
        "id": "KTBJDtbRzxsE"
      },
      "outputs": [],
      "source": [
        "import pandas\n",
        "from google.colab import files"
      ]
    },
    {
      "cell_type": "code",
      "source": [
        "from pandas.core.indexes.datetimes import date"
      ],
      "metadata": {
        "id": "IamRbwEOmIOf"
      },
      "execution_count": 3,
      "outputs": []
    },
    {
      "cell_type": "code",
      "source": [
        "#from pandas.core.reshape.tile import to_datetime"
      ],
      "metadata": {
        "id": "3rjvVHFjcjMJ"
      },
      "execution_count": 4,
      "outputs": []
    },
    {
      "cell_type": "code",
      "source": [
        "#from numpy import datetime64"
      ],
      "metadata": {
        "id": "AjR2JGVCoc6H"
      },
      "execution_count": 5,
      "outputs": []
    },
    {
      "cell_type": "code",
      "source": [
        "#from datetime import datetime"
      ],
      "metadata": {
        "id": "pz6xSGtDmNZK"
      },
      "execution_count": 6,
      "outputs": []
    },
    {
      "cell_type": "code",
      "source": [
        "#import dateutil.parser"
      ],
      "metadata": {
        "id": "yOOsaqgMmelI"
      },
      "execution_count": 7,
      "outputs": []
    },
    {
      "cell_type": "code",
      "source": [
        "from dateutil.relativedelta import relativedelta"
      ],
      "metadata": {
        "id": "gogtrKuXmeS5"
      },
      "execution_count": 8,
      "outputs": []
    },
    {
      "cell_type": "code",
      "source": [
        "pandas.set_option('display.max_rows', None)"
      ],
      "metadata": {
        "id": "gOWGNT543L_U"
      },
      "execution_count": 9,
      "outputs": []
    },
    {
      "cell_type": "markdown",
      "source": [
        "#### Upload Data"
      ],
      "metadata": {
        "id": "rV00sOOlsx9Z"
      }
    },
    {
      "cell_type": "markdown",
      "source": [
        "##### Upload files"
      ],
      "metadata": {
        "id": "b1wzK72QV7UX"
      }
    },
    {
      "cell_type": "code",
      "source": [
        "uploaded = files.upload()     # To upload .csv files to colab storage"
      ],
      "metadata": {
        "id": "UaiCeidx2UYk",
        "colab": {
          "base_uri": "https://localhost:8080/",
          "height": 142
        },
        "outputId": "fee52c85-f5aa-4fa6-f2a5-d0e19ba32894"
      },
      "execution_count": 10,
      "outputs": [
        {
          "output_type": "display_data",
          "data": {
            "text/plain": [
              "<IPython.core.display.HTML object>"
            ],
            "text/html": [
              "\n",
              "     <input type=\"file\" id=\"files-ab73e613-28df-4adb-a300-1d5f50594d89\" name=\"files[]\" multiple disabled\n",
              "        style=\"border:none\" />\n",
              "     <output id=\"result-ab73e613-28df-4adb-a300-1d5f50594d89\">\n",
              "      Upload widget is only available when the cell has been executed in the\n",
              "      current browser session. Please rerun this cell to enable.\n",
              "      </output>\n",
              "      <script>// Copyright 2017 Google LLC\n",
              "//\n",
              "// Licensed under the Apache License, Version 2.0 (the \"License\");\n",
              "// you may not use this file except in compliance with the License.\n",
              "// You may obtain a copy of the License at\n",
              "//\n",
              "//      http://www.apache.org/licenses/LICENSE-2.0\n",
              "//\n",
              "// Unless required by applicable law or agreed to in writing, software\n",
              "// distributed under the License is distributed on an \"AS IS\" BASIS,\n",
              "// WITHOUT WARRANTIES OR CONDITIONS OF ANY KIND, either express or implied.\n",
              "// See the License for the specific language governing permissions and\n",
              "// limitations under the License.\n",
              "\n",
              "/**\n",
              " * @fileoverview Helpers for google.colab Python module.\n",
              " */\n",
              "(function(scope) {\n",
              "function span(text, styleAttributes = {}) {\n",
              "  const element = document.createElement('span');\n",
              "  element.textContent = text;\n",
              "  for (const key of Object.keys(styleAttributes)) {\n",
              "    element.style[key] = styleAttributes[key];\n",
              "  }\n",
              "  return element;\n",
              "}\n",
              "\n",
              "// Max number of bytes which will be uploaded at a time.\n",
              "const MAX_PAYLOAD_SIZE = 100 * 1024;\n",
              "\n",
              "function _uploadFiles(inputId, outputId) {\n",
              "  const steps = uploadFilesStep(inputId, outputId);\n",
              "  const outputElement = document.getElementById(outputId);\n",
              "  // Cache steps on the outputElement to make it available for the next call\n",
              "  // to uploadFilesContinue from Python.\n",
              "  outputElement.steps = steps;\n",
              "\n",
              "  return _uploadFilesContinue(outputId);\n",
              "}\n",
              "\n",
              "// This is roughly an async generator (not supported in the browser yet),\n",
              "// where there are multiple asynchronous steps and the Python side is going\n",
              "// to poll for completion of each step.\n",
              "// This uses a Promise to block the python side on completion of each step,\n",
              "// then passes the result of the previous step as the input to the next step.\n",
              "function _uploadFilesContinue(outputId) {\n",
              "  const outputElement = document.getElementById(outputId);\n",
              "  const steps = outputElement.steps;\n",
              "\n",
              "  const next = steps.next(outputElement.lastPromiseValue);\n",
              "  return Promise.resolve(next.value.promise).then((value) => {\n",
              "    // Cache the last promise value to make it available to the next\n",
              "    // step of the generator.\n",
              "    outputElement.lastPromiseValue = value;\n",
              "    return next.value.response;\n",
              "  });\n",
              "}\n",
              "\n",
              "/**\n",
              " * Generator function which is called between each async step of the upload\n",
              " * process.\n",
              " * @param {string} inputId Element ID of the input file picker element.\n",
              " * @param {string} outputId Element ID of the output display.\n",
              " * @return {!Iterable<!Object>} Iterable of next steps.\n",
              " */\n",
              "function* uploadFilesStep(inputId, outputId) {\n",
              "  const inputElement = document.getElementById(inputId);\n",
              "  inputElement.disabled = false;\n",
              "\n",
              "  const outputElement = document.getElementById(outputId);\n",
              "  outputElement.innerHTML = '';\n",
              "\n",
              "  const pickedPromise = new Promise((resolve) => {\n",
              "    inputElement.addEventListener('change', (e) => {\n",
              "      resolve(e.target.files);\n",
              "    });\n",
              "  });\n",
              "\n",
              "  const cancel = document.createElement('button');\n",
              "  inputElement.parentElement.appendChild(cancel);\n",
              "  cancel.textContent = 'Cancel upload';\n",
              "  const cancelPromise = new Promise((resolve) => {\n",
              "    cancel.onclick = () => {\n",
              "      resolve(null);\n",
              "    };\n",
              "  });\n",
              "\n",
              "  // Wait for the user to pick the files.\n",
              "  const files = yield {\n",
              "    promise: Promise.race([pickedPromise, cancelPromise]),\n",
              "    response: {\n",
              "      action: 'starting',\n",
              "    }\n",
              "  };\n",
              "\n",
              "  cancel.remove();\n",
              "\n",
              "  // Disable the input element since further picks are not allowed.\n",
              "  inputElement.disabled = true;\n",
              "\n",
              "  if (!files) {\n",
              "    return {\n",
              "      response: {\n",
              "        action: 'complete',\n",
              "      }\n",
              "    };\n",
              "  }\n",
              "\n",
              "  for (const file of files) {\n",
              "    const li = document.createElement('li');\n",
              "    li.append(span(file.name, {fontWeight: 'bold'}));\n",
              "    li.append(span(\n",
              "        `(${file.type || 'n/a'}) - ${file.size} bytes, ` +\n",
              "        `last modified: ${\n",
              "            file.lastModifiedDate ? file.lastModifiedDate.toLocaleDateString() :\n",
              "                                    'n/a'} - `));\n",
              "    const percent = span('0% done');\n",
              "    li.appendChild(percent);\n",
              "\n",
              "    outputElement.appendChild(li);\n",
              "\n",
              "    const fileDataPromise = new Promise((resolve) => {\n",
              "      const reader = new FileReader();\n",
              "      reader.onload = (e) => {\n",
              "        resolve(e.target.result);\n",
              "      };\n",
              "      reader.readAsArrayBuffer(file);\n",
              "    });\n",
              "    // Wait for the data to be ready.\n",
              "    let fileData = yield {\n",
              "      promise: fileDataPromise,\n",
              "      response: {\n",
              "        action: 'continue',\n",
              "      }\n",
              "    };\n",
              "\n",
              "    // Use a chunked sending to avoid message size limits. See b/62115660.\n",
              "    let position = 0;\n",
              "    do {\n",
              "      const length = Math.min(fileData.byteLength - position, MAX_PAYLOAD_SIZE);\n",
              "      const chunk = new Uint8Array(fileData, position, length);\n",
              "      position += length;\n",
              "\n",
              "      const base64 = btoa(String.fromCharCode.apply(null, chunk));\n",
              "      yield {\n",
              "        response: {\n",
              "          action: 'append',\n",
              "          file: file.name,\n",
              "          data: base64,\n",
              "        },\n",
              "      };\n",
              "\n",
              "      let percentDone = fileData.byteLength === 0 ?\n",
              "          100 :\n",
              "          Math.round((position / fileData.byteLength) * 100);\n",
              "      percent.textContent = `${percentDone}% done`;\n",
              "\n",
              "    } while (position < fileData.byteLength);\n",
              "  }\n",
              "\n",
              "  // All done.\n",
              "  yield {\n",
              "    response: {\n",
              "      action: 'complete',\n",
              "    }\n",
              "  };\n",
              "}\n",
              "\n",
              "scope.google = scope.google || {};\n",
              "scope.google.colab = scope.google.colab || {};\n",
              "scope.google.colab._files = {\n",
              "  _uploadFiles,\n",
              "  _uploadFilesContinue,\n",
              "};\n",
              "})(self);\n",
              "</script> "
            ]
          },
          "metadata": {}
        },
        {
          "output_type": "stream",
          "name": "stdout",
          "text": [
            "Saving benchmark.csv to benchmark.csv\n",
            "Saving candidates_df.csv to candidates_df.csv\n",
            "Saving competitor_dates.csv to competitor_dates.csv\n"
          ]
        }
      ]
    },
    {
      "cell_type": "code",
      "source": [
        "!ls -lh"
      ],
      "metadata": {
        "id": "klE4aIAQ5gtI",
        "colab": {
          "base_uri": "https://localhost:8080/"
        },
        "outputId": "eb311ce7-ab53-4fec-e01e-91106a3d31ab"
      },
      "execution_count": 11,
      "outputs": [
        {
          "output_type": "stream",
          "name": "stdout",
          "text": [
            "total 14M\n",
            "-rw-r--r-- 1 root root 348K Nov 28 21:07 benchmark.csv\n",
            "-rw-r--r-- 1 root root  13M Nov 28 21:07 candidates_df.csv\n",
            "-rw-r--r-- 1 root root  91K Nov 28 21:07 competitor_dates.csv\n",
            "drwxr-xr-x 1 root root 4.0K Nov 22 00:14 sample_data\n"
          ]
        }
      ]
    },
    {
      "cell_type": "markdown",
      "source": [
        "##### Create candidates dataFrame"
      ],
      "metadata": {
        "id": "AKw6-lgWWCjG"
      }
    },
    {
      "cell_type": "markdown",
      "source": [],
      "metadata": {
        "id": "FivoswsSV4wt"
      }
    },
    {
      "cell_type": "code",
      "source": [
        "# Create dataframe \n",
        "candidates_df_data = pandas.read_csv('candidates_df.csv', parse_dates=['date'],\n",
        "                                     dtype={'cluster_id':str, 'stage_name':str})\n",
        "to_drop =['country', 'cluster', 'stage_name_lag_1', 'business_unit','ther_area_fact', 'prevalence']\n",
        "candidates = candidates_df_data.drop(columns=to_drop) #Here are the data with cluster, date, stages and volume"
      ],
      "metadata": {
        "id": "oIqpo8Jy8wNa"
      },
      "execution_count": 12,
      "outputs": []
    },
    {
      "cell_type": "markdown",
      "source": [
        "##### Other dataFrames"
      ],
      "metadata": {
        "id": "jQ6DzJvJWXwP"
      }
    },
    {
      "cell_type": "code",
      "source": [
        "#benchmark_data = pandas.read_csv('benchmark.csv')"
      ],
      "metadata": {
        "id": "5QX_c5t5HigT"
      },
      "execution_count": 13,
      "outputs": []
    },
    {
      "cell_type": "code",
      "source": [
        "#competitor_dates_data = pandas.read_csv('competitor_dates.csv')"
      ],
      "metadata": {
        "id": "nr7_yQed83FP"
      },
      "execution_count": 14,
      "outputs": []
    },
    {
      "cell_type": "code",
      "source": [
        "#indication_dates_data = pandas.read_csv('indication_dates.csv')"
      ],
      "metadata": {
        "id": "GLJjCGB19TBu"
      },
      "execution_count": 15,
      "outputs": []
    },
    {
      "cell_type": "code",
      "source": [
        "#launch_dates_data = pandas.read_csv('launch_dates.csv')"
      ],
      "metadata": {
        "id": "fVrotdKm9XKI"
      },
      "execution_count": 16,
      "outputs": []
    },
    {
      "cell_type": "code",
      "source": [
        "#population_data = pandas.read_csv('population.csv')"
      ],
      "metadata": {
        "id": "Bbk1jN989fcP"
      },
      "execution_count": 17,
      "outputs": []
    },
    {
      "cell_type": "code",
      "source": [
        "#regulatory_designations_data = pandas.read_csv('regulatory_designations.csv')"
      ],
      "metadata": {
        "id": "5x9Fd_Ko9fxU"
      },
      "execution_count": 18,
      "outputs": []
    },
    {
      "cell_type": "markdown",
      "source": [
        "# Functions"
      ],
      "metadata": {
        "id": "42Nzp5Fssqeu"
      }
    },
    {
      "cell_type": "markdown",
      "source": [
        "##### Normalization Coefficient to adjust slopes of derivative."
      ],
      "metadata": {
        "id": "hmUZJT6ERuLm"
      }
    },
    {
      "cell_type": "markdown",
      "source": [
        "Normalization Coefficient to adjust slopes of derivative.\n",
        "```\n",
        "For all rows of each cluster_id determine Max and Min\n",
        "with ValueRef, then return coefficient to apply slope calculation\n",
        "Example:\n",
        "\n",
        "cluster_id\tdate\tstage_name\tvolume\n",
        "...\n",
        "ID_65\t2015-07-01\tGrowth\t411482324,4606376\n",
        "ID_65\t2015-08-01\tGrowth\t414471300,18311197\n",
        "ID_65\t2015-09-01\tGrowth\t468771025,808063\n",
        "ID_65\t2015-10-01\tGrowth\t424932715,21177226\n",
        "ID_65\t2015-11-01\tGrowth\t439628512,5139379\n",
        "ID_65\t2015-12-01\tGrowth\t407746104,80754465\n",
        "ID_65\t2016-01-01\tGrowth\t427174447,003628\n",
        "ID_65\t2016-02-01\tGrowth\t339995988,43145907\n",
        "ID_65\t2016-03-01\tGrowth\t415965788,04434913\n",
        "ID_65\t2016-04-01\tGrowth\t433650561,06898916\n",
        "ID_65\t2016-05-01\tGrowth\t428170772,24445283\n",
        "ID_65\t2016-06-01\tGrowth\t470514594,9795063\n",
        "ID_65\t2016-07-01\tGrowth\t426925365,69342184\n",
        "ID_65\t2016-08-01\tMaturity\t589575461,2580684\n",
        "ID_65\t2016-09-01\tMaturity\t547729801,1434274\n",
        "ID_65\t2016-10-01\tMaturity\t513854742,9553846\n",
        "ID_65\t2016-11-01\tMaturity\t535524816,94332385\n",
        "ID_65\t2016-12-01\tMaturity\t622952356,825699\n",
        "ID_65\t2017-01-01\tMaturity\t438632187,2731131\n",
        "ID_65\t2017-02-01\tMaturity\t530294109,42899364\n",
        "ID_65\t2017-03-01\tMaturity\t631421121,3727096\n",
        "ID_65\t2017-04-01\tMaturity\t550967858,176108\n",
        "ID_65\t2017-05-01\tMaturity\t557443972,2414691\n",
        "ID_65\t2017-06-01\tMaturity\t689207985,3405474\n",
        "ID_65\t2017-07-01\tMaturity\t567158143,3395108\n",
        "ID_65\t2017-08-01\tMaturity\t618219811,9317812\n",
        "ID_65\t2017-09-01\tMaturity\t578864964,9192022\n",
        "...\n",
        "```\n",
        "![id0065.svg](data:image/svg+xml;base64,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)"
      ],
      "metadata": {
        "id": "h_5C2jyopyDV"
      }
    },
    {
      "cell_type": "code",
      "source": [
        "# Normalization Coefficient to adjust slopes of derivative.\n",
        "# For all rows of each cluster_id determine Max and Min\n",
        "# with ValueRef, then return coefficient to apply slope calculation\n",
        "# also can provide mean of values.\n",
        "def normalizeSales(salesArray,valueRef):\n",
        "  max = salesArray.max()\n",
        "  min = salesArray.min()\n",
        "  range = int(max - min)\n",
        "  realMean = salesArray.mean()\n",
        "  print('Range for all registers to fit valueref:', range)\n",
        "  print('real mean calculated', realMean)\n",
        "  norm_mean = (realMean/range)*valueRef\n",
        "  salesNormCoefficient = valueRef/range\n",
        "  return salesNormCoefficient, norm_mean"
      ],
      "metadata": {
        "id": "m8ocy5wBozfV"
      },
      "execution_count": 19,
      "outputs": []
    },
    {
      "cell_type": "markdown",
      "source": [
        "##### Create product list from candidates"
      ],
      "metadata": {
        "id": "Si2p0RxXTOET"
      }
    },
    {
      "cell_type": "code",
      "source": [
        "# prodList is a dataFrame of unique cluster_id list\n",
        "# with transition date, is_transition(YES/NO)\n",
        "# with date of transition, and a forecast value for this transition date\n",
        "# pseudoST(Slopes list), pseudoLT(Slopes list),"
      ],
      "metadata": {
        "id": "OF_FttiLTiy6"
      },
      "execution_count": 20,
      "outputs": []
    },
    {
      "cell_type": "code",
      "source": [
        "prodList = pandas.DataFrame(\n",
        "    { 'cluster_id': candidates['cluster_id'].unique(), # unique cluster_id list\n",
        "     'transition_date': date, # transition date point forecasted for first submission\n",
        "     'is_transition': str, # if YES or NO transitioned to mature\n",
        "     'date': date, # transition date point forecasted for second submission\n",
        "     'forecast': int, # forecast value for this transition date, second submission\n",
        "     'idxGroup': list, # list of indexes that are included on this cluster_id\n",
        "     'idxLtrans': list, # Indexes of rows that transitions due labelling at dataset\n",
        "     'idxPtrans':list, # Indexes of rows that transitions due parametric determination\n",
        "     'idxST_l': list, # short term calculation ranges for transitional indexes (labelling)\n",
        "     'idxLT_l':list, # long term calculation ranges for transitional indexes (parametric)\n",
        "     'diffST_l':list, # short term calculation pseudoderivative for calculation ranges (labelling)\n",
        "     'diffLT_l':list # long term calculation pseudoderivative for calculation ranges (labelling)\n",
        "    })"
      ],
      "metadata": {
        "id": "-GqHTwCpegmh"
      },
      "execution_count": 21,
      "outputs": []
    },
    {
      "cell_type": "markdown",
      "source": [
        "##### Create a submission1 csv file from prodList"
      ],
      "metadata": {
        "id": "qAREZ2Qefr_i"
      }
    },
    {
      "cell_type": "code",
      "source": [
        "header = ['cluster_id', 'transition_date', 'is_transition']\n",
        "prodList.to_csv('metric_one.csv', columns = header)"
      ],
      "metadata": {
        "id": "pFuPohQ2YoJO"
      },
      "execution_count": 22,
      "outputs": []
    },
    {
      "cell_type": "code",
      "source": [
        "files.download('metric_one.csv')"
      ],
      "metadata": {
        "colab": {
          "base_uri": "https://localhost:8080/",
          "height": 0
        },
        "id": "7VGYFqv1h8cA",
        "outputId": "7ded6541-8c7c-4e53-df53-6dc14541d961"
      },
      "execution_count": 23,
      "outputs": [
        {
          "output_type": "display_data",
          "data": {
            "text/plain": [
              "<IPython.core.display.Javascript object>"
            ],
            "application/javascript": [
              "\n",
              "    async function download(id, filename, size) {\n",
              "      if (!google.colab.kernel.accessAllowed) {\n",
              "        return;\n",
              "      }\n",
              "      const div = document.createElement('div');\n",
              "      const label = document.createElement('label');\n",
              "      label.textContent = `Downloading \"${filename}\": `;\n",
              "      div.appendChild(label);\n",
              "      const progress = document.createElement('progress');\n",
              "      progress.max = size;\n",
              "      div.appendChild(progress);\n",
              "      document.body.appendChild(div);\n",
              "\n",
              "      const buffers = [];\n",
              "      let downloaded = 0;\n",
              "\n",
              "      const channel = await google.colab.kernel.comms.open(id);\n",
              "      // Send a message to notify the kernel that we're ready.\n",
              "      channel.send({})\n",
              "\n",
              "      for await (const message of channel.messages) {\n",
              "        // Send a message to notify the kernel that we're ready.\n",
              "        channel.send({})\n",
              "        if (message.buffers) {\n",
              "          for (const buffer of message.buffers) {\n",
              "            buffers.push(buffer);\n",
              "            downloaded += buffer.byteLength;\n",
              "            progress.value = downloaded;\n",
              "          }\n",
              "        }\n",
              "      }\n",
              "      const blob = new Blob(buffers, {type: 'application/binary'});\n",
              "      const a = document.createElement('a');\n",
              "      a.href = window.URL.createObjectURL(blob);\n",
              "      a.download = filename;\n",
              "      div.appendChild(a);\n",
              "      a.click();\n",
              "      div.remove();\n",
              "    }\n",
              "  "
            ]
          },
          "metadata": {}
        },
        {
          "output_type": "display_data",
          "data": {
            "text/plain": [
              "<IPython.core.display.Javascript object>"
            ],
            "application/javascript": [
              "download(\"download_54486dc5-9e8e-4419-85fa-0d31c960b148\", \"metric_one.csv\", 73088)"
            ]
          },
          "metadata": {}
        }
      ]
    },
    {
      "cell_type": "markdown",
      "source": [
        "##### Create a submission2 csv file from prodList"
      ],
      "metadata": {
        "id": "Dtr9qOUzilJQ"
      }
    },
    {
      "cell_type": "code",
      "source": [
        "header = ['cluster_id', 'date', 'forecast']\n",
        "prodList.to_csv('metric_two.csv', columns = header)"
      ],
      "metadata": {
        "id": "3IbzkXzIioYA"
      },
      "execution_count": 24,
      "outputs": []
    },
    {
      "cell_type": "code",
      "source": [
        "files.download('metric_two.csv')"
      ],
      "metadata": {
        "id": "ozcF2GmL8iGT",
        "colab": {
          "base_uri": "https://localhost:8080/",
          "height": 0
        },
        "outputId": "5ae50916-42ee-48ca-95d5-52eb176528a1"
      },
      "execution_count": 25,
      "outputs": [
        {
          "output_type": "display_data",
          "data": {
            "text/plain": [
              "<IPython.core.display.Javascript object>"
            ],
            "application/javascript": [
              "\n",
              "    async function download(id, filename, size) {\n",
              "      if (!google.colab.kernel.accessAllowed) {\n",
              "        return;\n",
              "      }\n",
              "      const div = document.createElement('div');\n",
              "      const label = document.createElement('label');\n",
              "      label.textContent = `Downloading \"${filename}\": `;\n",
              "      div.appendChild(label);\n",
              "      const progress = document.createElement('progress');\n",
              "      progress.max = size;\n",
              "      div.appendChild(progress);\n",
              "      document.body.appendChild(div);\n",
              "\n",
              "      const buffers = [];\n",
              "      let downloaded = 0;\n",
              "\n",
              "      const channel = await google.colab.kernel.comms.open(id);\n",
              "      // Send a message to notify the kernel that we're ready.\n",
              "      channel.send({})\n",
              "\n",
              "      for await (const message of channel.messages) {\n",
              "        // Send a message to notify the kernel that we're ready.\n",
              "        channel.send({})\n",
              "        if (message.buffers) {\n",
              "          for (const buffer of message.buffers) {\n",
              "            buffers.push(buffer);\n",
              "            downloaded += buffer.byteLength;\n",
              "            progress.value = downloaded;\n",
              "          }\n",
              "        }\n",
              "      }\n",
              "      const blob = new Blob(buffers, {type: 'application/binary'});\n",
              "      const a = document.createElement('a');\n",
              "      a.href = window.URL.createObjectURL(blob);\n",
              "      a.download = filename;\n",
              "      div.appendChild(a);\n",
              "      a.click();\n",
              "      div.remove();\n",
              "    }\n",
              "  "
            ]
          },
          "metadata": {}
        },
        {
          "output_type": "display_data",
          "data": {
            "text/plain": [
              "<IPython.core.display.Javascript object>"
            ],
            "application/javascript": [
              "download(\"download_66da9041-7b6a-48bc-ad74-78c299d3f3eb\", \"metric_two.csv\", 73072)"
            ]
          },
          "metadata": {}
        }
      ]
    },
    {
      "cell_type": "markdown",
      "source": [
        "##### Explore dataframe for each cluster_id value\n",
        "```\n",
        "# From candidate dataFrame, create prodList unique rows for each prod_id\n",
        "# Going over prodList to extract for each prod_id:\n",
        "# |-> idxGroup(list of indexes for this prod_id),\n",
        "# |-> idxLtrans(list indexes of transition labels for this prod_id)\n",
        "# |-> idxST_l(lists indexes of short term analyze ranges, one list for each index of transition)\n",
        "# |-> idxLT_l(lists indexes of long term analyze ranges, one list for each index of transition)\n",
        "```"
      ],
      "metadata": {
        "id": "8RL0djGgxRNg"
      }
    },
    {
      "cell_type": "code",
      "source": [
        "def scanProdId(prod_id, test = False):\n",
        "  global candidates\n",
        "  global prodlist\n",
        "  global group\n",
        "  count = 0\n",
        "  last_stage = None\n",
        "  DiffList = []\n",
        "  idxTransitions = []\n",
        "  lastDate=max(candidates.date).date()\n",
        "  dateForecast = lastDate\n",
        "  # Filter group for prod_id maintaining candidates dataset indexes\n",
        "  group = candidates.loc[candidates['cluster_id'] == prod_id,:]\n",
        "  # identify label changing\n",
        "  for row in group.iterrows():\n",
        "    stage = group.iloc[:,3][row[0]]\n",
        "    DiffList.append(row[0])\n",
        "    if test:\n",
        "      print(row[0],' Last stage:', last_stage, '-- Stage:', stage, '...' , sep='')\n",
        "    if (stage != last_stage) and (last_stage != None) and ((stage == 'Maturity') or (stage == 'Second_Maturity')):\n",
        "      if test:\n",
        "        print(row[0],' Last stage:', last_stage, '-- Stage:', stage, '...' , sep='')\n",
        "      idxTransitions.append(row[0])\n",
        "      print(row[0],'Transition for id:', prod_id) #, candidates.iloc[:,5][row[0]])\n",
        "    if (stage != last_stage) and (last_stage != 'Forecasting') and (stage == 'Forecasting'):\n",
        "      dateForecast = candidates.iloc[row[0],2].date()\n",
        "    last_stage = stage\n",
        "    count += 1\n",
        "  # Testing the submission\n",
        "  if (len(idxTransitions)>0):\n",
        "    prodList.iloc[prodList.loc[prodList['cluster_id'] == prod_id].index,1] = lastDate - relativedelta(months=36)\n",
        "    prodList.iloc[prodList.loc[prodList['cluster_id'] == prod_id].index,2] = 'NO'\n",
        "  else:\n",
        "    prodList.iloc[prodList.loc[prodList['cluster_id'] == prod_id].index,1] = dateForecast + relativedelta(months=5)\n",
        "    prodList.iloc[prodList.loc[prodList['cluster_id'] == prod_id].index,2] = 'YES'\n",
        "  # Testing the submission\n",
        "  prodList.iloc[prodList.loc[prodList['cluster_id'] == prod_id].index,5] = [DiffList]\n",
        "  prodList.iloc[prodList.loc[prodList['cluster_id'] == prod_id].index,6] = [idxTransitions]\n",
        "  if test:\n",
        "    print('Interval for', prod_id, ' ,', ' transitions:', idxTransitions, ',', count, 'rows availables')\n",
        "    minDifList= min(DiffList)\n",
        "    maxDifList= max(DiffList)\n",
        "    print(len(DiffList), 'Ordered indexes from', minDifList, 'to', maxDifList)\n",
        "    print('Group elements:', DiffList)\n",
        "  DiffST_LEN = 27\n",
        "  DiffLT_LEN = 49\n",
        "  if (len(idxTransitions) > 0):\n",
        "    if test:\n",
        "      print('Generating Intervals for first transition on', idxTransitions[0])\n",
        "    DiffPos = DiffList.index(idxTransitions[0])\n",
        "    if test:\n",
        "      print('Indice general en dataset candidatos, y grupo de ID:', DiffList[DiffPos])\n",
        "      print('Indice de transicion en intervalo de grupo:', DiffPos)\n",
        "      print('DiffST interval:[', DiffST_LEN-DiffST_LEN//2, DiffST_LEN//2, ']', end='')\n",
        "      print('----> [', DiffPos-(DiffST_LEN-DiffST_LEN//2), DiffPos+DiffST_LEN//2, ']')\n",
        "      print('DiffLT interval:[', DiffLT_LEN-DiffLT_LEN//2, DiffLT_LEN//2, ']', end='')\n",
        "      print('----> [', DiffPos-(DiffLT_LEN-DiffLT_LEN//2), DiffPos+DiffLT_LEN//2, ']')\n",
        "    DiffST= DiffList[DiffPos-(DiffST_LEN-DiffST_LEN//2) : DiffPos+DiffST_LEN//2]\n",
        "    if test:\n",
        "      print('DiffST:',len(DiffST))\n",
        "      print('DiffST', DiffST)\n",
        "    DiffLT= DiffList[DiffPos-(DiffLT_LEN-DiffLT_LEN//2):DiffPos+DiffLT_LEN//2]\n",
        "    if test:\n",
        "      print('DiffLT:', len(DiffLT))\n",
        "      print(DiffLT)\n",
        "    # Also store on new dataframe idxST_l and idxLT_l associated to ID_xxxx would be nice\n",
        "    # prod_id<--->idxLtrans<--->[idxST_l]<--->[idxLT_l]\n",
        "    prodList.iloc[prodList.loc[prodList['cluster_id'] == prod_id].index,8] = [DiffST]\n",
        "    prodList.iloc[prodList.loc[prodList['cluster_id'] == prod_id].index,9] = [DiffLT]"
      ],
      "metadata": {
        "id": "OgwdrFAiz5dL"
      },
      "execution_count": 26,
      "outputs": []
    },
    {
      "cell_type": "code",
      "source": [
        "prod_id = 'ID_65'\n",
        "scanProdId(prod_id)"
      ],
      "metadata": {
        "id": "rexPQV2j_aZ_",
        "colab": {
          "base_uri": "https://localhost:8080/"
        },
        "outputId": "65c8f2cd-fd6a-481a-fac6-31da0a110d47"
      },
      "execution_count": 27,
      "outputs": [
        {
          "output_type": "stream",
          "name": "stdout",
          "text": [
            "3509 Transition for id: ID_65\n"
          ]
        }
      ]
    },
    {
      "cell_type": "code",
      "source": [
        "print('Procesando toda la lista de productos...')\n",
        "for id in prodList.iterrows():\n",
        "  #print(prodList.iloc[:,0][id[0]])\n",
        "  scanProdId(prodList.iloc[:,0][id[0]])"
      ],
      "metadata": {
        "id": "bFnhkmbA0REh",
        "colab": {
          "base_uri": "https://localhost:8080/"
        },
        "outputId": "c0e70345-7310-4ae4-9bed-c61e4c79ce48"
      },
      "execution_count": 28,
      "outputs": [
        {
          "output_type": "stream",
          "name": "stdout",
          "text": [
            "Procesando toda la lista de productos...\n",
            "645 Transition for id: ID_12\n",
            "923 Transition for id: ID_17\n",
            "1017 Transition for id: ID_18\n",
            "1265 Transition for id: ID_21\n",
            "1414 Transition for id: ID_22\n",
            "1513 Transition for id: ID_23\n",
            "1761 Transition for id: ID_25\n",
            "1910 Transition for id: ID_27\n",
            "1989 Transition for id: ID_31\n",
            "2109 Transition for id: ID_32\n",
            "2230 Transition for id: ID_33\n",
            "2649 Transition for id: ID_43\n",
            "2833 Transition for id: ID_45\n",
            "2931 Transition for id: ID_60\n",
            "3028 Transition for id: ID_61\n",
            "3355 Transition for id: ID_64\n",
            "3509 Transition for id: ID_65\n",
            "4183 Transition for id: ID_93\n",
            "4607 Transition for id: ID_102\n",
            "4807 Transition for id: ID_106\n",
            "4954 Transition for id: ID_107\n",
            "5054 Transition for id: ID_108\n",
            "5127 Transition for id: ID_109\n",
            "5227 Transition for id: ID_110\n",
            "5613 Transition for id: ID_115\n",
            "6250 Transition for id: ID_126\n",
            "6614 Transition for id: ID_144\n",
            "6843 Transition for id: ID_163\n",
            "6982 Transition for id: ID_166\n",
            "7230 Transition for id: ID_168\n",
            "7458 Transition for id: ID_173\n",
            "7850 Transition for id: ID_176\n",
            "8222 Transition for id: ID_182\n",
            "8594 Transition for id: ID_186\n",
            "8718 Transition for id: ID_187\n",
            "8842 Transition for id: ID_188\n",
            "8971 Transition for id: ID_189\n",
            "9090 Transition for id: ID_190\n",
            "9214 Transition for id: ID_191\n",
            "9447 Transition for id: ID_193\n",
            "9544 Transition for id: ID_194\n",
            "9647 Transition for id: ID_195\n",
            "9961 Transition for id: ID_202\n",
            "10125 Transition for id: ID_206\n",
            "10445 Transition for id: ID_214\n",
            "10615 Transition for id: ID_217\n",
            "10737 Transition for id: ID_219\n",
            "10867 Transition for id: ID_222\n",
            "10925 Transition for id: ID_223\n",
            "11211 Transition for id: ID_228\n",
            "11459 Transition for id: ID_251\n",
            "11857 Transition for id: ID_255\n",
            "12674 Transition for id: ID_265\n",
            "12823 Transition for id: ID_268\n",
            "13185 Transition for id: ID_272\n",
            "13317 Transition for id: ID_273\n",
            "13406 Transition for id: ID_274\n",
            "13530 Transition for id: ID_275\n",
            "13890 Transition for id: ID_280\n",
            "14079 Transition for id: ID_284\n",
            "14278 Transition for id: ID_290\n",
            "14478 Transition for id: ID_292\n",
            "14578 Transition for id: ID_294\n",
            "14683 Transition for id: ID_296\n",
            "14878 Transition for id: ID_298\n",
            "15078 Transition for id: ID_302\n",
            "15202 Transition for id: ID_305\n",
            "15802 Transition for id: ID_313\n",
            "15882 Transition for id: ID_314\n",
            "16002 Transition for id: ID_315\n",
            "16412 Transition for id: ID_319\n",
            "16580 Transition for id: ID_321\n",
            "16773 Transition for id: ID_324\n",
            "17094 Transition for id: ID_329\n",
            "17300 Transition for id: ID_334\n",
            "17499 Transition for id: ID_336\n",
            "17547 Transition for id: ID_355\n",
            "17842 Transition for id: ID_379\n",
            "18064 Transition for id: ID_384\n",
            "18411 Transition for id: ID_388\n",
            "18570 Transition for id: ID_389\n",
            "18659 Transition for id: ID_390\n",
            "18887 Transition for id: ID_393\n",
            "19403 Transition for id: ID_397\n",
            "19537 Transition for id: ID_399\n",
            "19651 Transition for id: ID_400\n",
            "19800 Transition for id: ID_401\n",
            "19899 Transition for id: ID_402\n",
            "20233 Transition for id: ID_406\n",
            "20482 Transition for id: ID_414\n",
            "20555 Transition for id: ID_415\n",
            "20895 Transition for id: ID_433\n",
            "21089 Transition for id: ID_435\n",
            "21362 Transition for id: ID_457\n",
            "21486 Transition for id: ID_458\n",
            "21858 Transition for id: ID_463\n",
            "21957 Transition for id: ID_465\n",
            "22230 Transition for id: ID_469\n",
            "22577 Transition for id: ID_475\n",
            "22701 Transition for id: ID_476\n",
            "22823 Transition for id: ID_477\n",
            "22972 Transition for id: ID_478\n",
            "23280 Transition for id: ID_483\n",
            "23417 Transition for id: ID_484\n",
            "23937 Transition for id: ID_492\n",
            "24070 Transition for id: ID_496\n",
            "24250 Transition for id: ID_520\n",
            "25077 Transition for id: ID_552\n",
            "25185 Transition for id: ID_555\n",
            "25631 Transition for id: ID_562\n",
            "25746 Transition for id: ID_563\n",
            "25850 Transition for id: ID_564\n",
            "26119 Transition for id: ID_566\n",
            "26218 Transition for id: ID_567\n",
            "26590 Transition for id: ID_570\n",
            "26799 Transition for id: ID_572\n",
            "27305 Transition for id: ID_579\n",
            "27682 Transition for id: ID_592\n",
            "27751 Transition for id: ID_593\n",
            "27865 Transition for id: ID_595\n",
            "27926 Transition for id: ID_598\n",
            "27987 Transition for id: ID_599\n",
            "28154 Transition for id: ID_605\n",
            "28233 Transition for id: ID_606\n",
            "28414 Transition for id: ID_608\n",
            "29116 Transition for id: ID_631\n",
            "29364 Transition for id: ID_634\n",
            "29493 Transition for id: ID_636\n",
            "29544 Transition for id: ID_636\n",
            "29787 Transition for id: ID_641\n",
            "30009 Transition for id: ID_643\n",
            "30232 Transition for id: ID_645\n",
            "30356 Transition for id: ID_646\n",
            "30536 Transition for id: ID_647\n",
            "30829 Transition for id: ID_651\n",
            "30982 Transition for id: ID_655\n",
            "31035 Transition for id: ID_659\n",
            "31106 Transition for id: ID_660\n",
            "31375 Transition for id: ID_676\n",
            "31623 Transition for id: ID_678\n",
            "31917 Transition for id: ID_698\n",
            "32464 Transition for id: ID_702\n",
            "32765 Transition for id: ID_705\n",
            "33111 Transition for id: ID_709\n",
            "33167 Transition for id: ID_709\n",
            "33260 Transition for id: ID_710\n",
            "33359 Transition for id: ID_711\n",
            "33632 Transition for id: ID_713\n",
            "34256 Transition for id: ID_719\n",
            "34375 Transition for id: ID_722\n",
            "34529 Transition for id: ID_724\n",
            "34953 Transition for id: ID_749\n",
            "35082 Transition for id: ID_756\n",
            "35325 Transition for id: ID_762\n",
            "35449 Transition for id: ID_763\n",
            "35598 Transition for id: ID_764\n",
            "35821 Transition for id: ID_766\n",
            "36069 Transition for id: ID_768\n",
            "36207 Transition for id: ID_771\n",
            "36280 Transition for id: ID_772\n",
            "36876 Transition for id: ID_780\n",
            "37375 Transition for id: ID_798\n",
            "37795 Transition for id: ID_805\n",
            "37895 Transition for id: ID_808\n",
            "38119 Transition for id: ID_812\n",
            "38219 Transition for id: ID_813\n",
            "38419 Transition for id: ID_816\n",
            "38499 Transition for id: ID_817\n",
            "39302 Transition for id: ID_825\n",
            "39427 Transition for id: ID_826\n",
            "39603 Transition for id: ID_829\n",
            "40049 Transition for id: ID_837\n",
            "40164 Transition for id: ID_839\n",
            "40222 Transition for id: ID_840\n",
            "40394 Transition for id: ID_855\n",
            "40567 Transition for id: ID_877\n",
            "40918 Transition for id: ID_881\n",
            "41674 Transition for id: ID_892\n",
            "41863 Transition for id: ID_894\n",
            "42314 Transition for id: ID_898\n",
            "42412 Transition for id: ID_901\n",
            "42538 Transition for id: ID_902\n",
            "42711 Transition for id: ID_904\n",
            "42835 Transition for id: ID_905\n",
            "42935 Transition for id: ID_906\n",
            "43115 Transition for id: ID_908\n",
            "43346 Transition for id: ID_910\n",
            "43519 Transition for id: ID_912\n",
            "44667 Transition for id: ID_946\n",
            "45547 Transition for id: ID_974\n",
            "45827 Transition for id: ID_978\n",
            "45874 Transition for id: ID_978\n",
            "45974 Transition for id: ID_979\n",
            "46027 Transition for id: ID_982\n",
            "46256 Transition for id: ID_986\n",
            "46371 Transition for id: ID_987\n",
            "46971 Transition for id: ID_994\n",
            "47337 Transition for id: ID_998\n",
            "47484 Transition for id: ID_999\n",
            "48056 Transition for id: ID_1009\n",
            "48269 Transition for id: ID_1014\n",
            "48429 Transition for id: ID_1029\n",
            "48513 Transition for id: ID_1030\n",
            "48648 Transition for id: ID_1049\n",
            "48866 Transition for id: ID_1051\n",
            "48990 Transition for id: ID_1054\n",
            "49089 Transition for id: ID_1055\n",
            "49590 Transition for id: ID_1059\n",
            "50210 Transition for id: ID_1065\n",
            "50374 Transition for id: ID_1066\n",
            "50721 Transition for id: ID_1070\n",
            "51316 Transition for id: ID_1075\n",
            "51420 Transition for id: ID_1076\n",
            "52139 Transition for id: ID_1091\n",
            "52378 Transition for id: ID_1097\n",
            "52449 Transition for id: ID_1098\n",
            "52927 Transition for id: ID_1112\n",
            "53251 Transition for id: ID_1119\n",
            "53475 Transition for id: ID_1121\n",
            "53527 Transition for id: ID_1121\n",
            "53695 Transition for id: ID_1125\n",
            "54070 Transition for id: ID_1130\n",
            "54243 Transition for id: ID_1132\n",
            "54343 Transition for id: ID_1133\n",
            "54443 Transition for id: ID_1135\n",
            "54767 Transition for id: ID_1138\n",
            "54901 Transition for id: ID_1139\n",
            "55023 Transition for id: ID_1140\n",
            "55091 Transition for id: ID_1141\n",
            "55403 Transition for id: ID_1144\n",
            "55571 Transition for id: ID_1146\n",
            "56072 Transition for id: ID_1157\n",
            "56341 Transition for id: ID_1178\n",
            "56707 Transition for id: ID_1182\n",
            "56888 Transition for id: ID_1184\n",
            "56983 Transition for id: ID_1185\n",
            "57031 Transition for id: ID_1186\n",
            "57438 Transition for id: ID_1216\n",
            "57585 Transition for id: ID_1217\n",
            "57758 Transition for id: ID_1222\n",
            "57862 Transition for id: ID_1225\n",
            "58282 Transition for id: ID_1230\n",
            "58462 Transition for id: ID_1232\n",
            "58682 Transition for id: ID_1234\n",
            "58992 Transition for id: ID_1238\n",
            "59045 Transition for id: ID_1239\n",
            "59429 Transition for id: ID_1244\n",
            "59919 Transition for id: ID_1253\n",
            "59972 Transition for id: ID_1254\n",
            "60516 Transition for id: ID_1295\n",
            "60848 Transition for id: ID_1300\n",
            "60916 Transition for id: ID_1302\n",
            "61340 Transition for id: ID_1306\n",
            "61445 Transition for id: ID_1307\n",
            "61540 Transition for id: ID_1308\n",
            "61905 Transition for id: ID_1313\n",
            "62125 Transition for id: ID_1315\n",
            "62225 Transition for id: ID_1316\n",
            "62605 Transition for id: ID_1320\n",
            "62722 Transition for id: ID_1321\n",
            "63063 Transition for id: ID_1326\n",
            "63376 Transition for id: ID_1333\n",
            "63639 Transition for id: ID_1344\n",
            "63703 Transition for id: ID_1346\n",
            "64246 Transition for id: ID_1375\n",
            "64426 Transition for id: ID_1378\n",
            "64573 Transition for id: ID_1379\n",
            "64646 Transition for id: ID_1380\n",
            "64873 Transition for id: ID_1386\n",
            "65073 Transition for id: ID_1388\n",
            "65278 Transition for id: ID_1392\n",
            "65773 Transition for id: ID_1398\n",
            "66052 Transition for id: ID_1401\n",
            "66223 Transition for id: ID_1403\n",
            "66570 Transition for id: ID_1409\n",
            "67046 Transition for id: ID_1438\n",
            "67346 Transition for id: ID_1441\n",
            "67437 Transition for id: ID_1442\n",
            "67509 Transition for id: ID_1443\n",
            "67656 Transition for id: ID_1445\n",
            "67854 Transition for id: ID_1447\n",
            "68201 Transition for id: ID_1455\n",
            "68360 Transition for id: ID_1457\n",
            "68505 Transition for id: ID_1458\n",
            "68872 Transition for id: ID_1464\n",
            "68980 Transition for id: ID_1465\n",
            "69054 Transition for id: ID_1466\n",
            "69193 Transition for id: ID_1467\n",
            "69342 Transition for id: ID_1469\n",
            "69818 Transition for id: ID_1473\n",
            "70086 Transition for id: ID_1476\n",
            "70185 Transition for id: ID_1477\n",
            "70309 Transition for id: ID_1478\n",
            "70433 Transition for id: ID_1479\n",
            "70582 Transition for id: ID_1480\n",
            "70703 Transition for id: ID_1481\n",
            "70797 Transition for id: ID_1482\n",
            "70946 Transition for id: ID_1483\n",
            "71122 Transition for id: ID_1485\n",
            "71349 Transition for id: ID_1487\n",
            "71566 Transition for id: ID_1495\n",
            "71992 Transition for id: ID_1502\n",
            "72065 Transition for id: ID_1515\n",
            "72369 Transition for id: ID_1543\n",
            "72716 Transition for id: ID_1546\n",
            "72789 Transition for id: ID_1549\n",
            "72913 Transition for id: ID_1552\n",
            "73013 Transition for id: ID_1553\n",
            "73213 Transition for id: ID_1555\n",
            "73313 Transition for id: ID_1558\n",
            "73393 Transition for id: ID_1559\n",
            "73718 Transition for id: ID_1562\n",
            "74112 Transition for id: ID_1566\n",
            "74165 Transition for id: ID_1567\n",
            "74285 Transition for id: ID_1568\n",
            "74559 Transition for id: ID_1574\n",
            "74857 Transition for id: ID_1581\n",
            "75045 Transition for id: ID_1597\n",
            "75345 Transition for id: ID_1620\n",
            "75425 Transition for id: ID_1621\n",
            "75672 Transition for id: ID_1624\n",
            "75745 Transition for id: ID_1626\n",
            "75945 Transition for id: ID_1629\n",
            "76572 Transition for id: ID_1640\n",
            "76645 Transition for id: ID_1641\n",
            "76730 Transition for id: ID_1642\n",
            "76825 Transition for id: ID_1644\n",
            "76972 Transition for id: ID_1645\n",
            "77204 Transition for id: ID_1653\n",
            "77400 Transition for id: ID_1655\n",
            "77544 Transition for id: ID_1667\n",
            "77862 Transition for id: ID_1670\n",
            "77931 Transition for id: ID_1716\n",
            "78018 Transition for id: ID_1717\n",
            "78088 Transition for id: ID_1718\n",
            "78304 Transition for id: ID_1722\n",
            "80114 Transition for id: ID_1757\n",
            "80488 Transition for id: ID_1762\n",
            "80629 Transition for id: ID_1763\n",
            "81022 Transition for id: ID_1771\n",
            "81070 Transition for id: ID_1774\n",
            "81243 Transition for id: ID_1778\n",
            "81413 Transition for id: ID_1782\n",
            "81535 Transition for id: ID_1784\n",
            "81654 Transition for id: ID_1786\n",
            "81718 Transition for id: ID_1789\n",
            "81779 Transition for id: ID_1790\n",
            "82020 Transition for id: ID_1795\n",
            "82196 Transition for id: ID_1800\n",
            "83608 Transition for id: ID_1837\n",
            "83800 Transition for id: ID_1839\n",
            "83940 Transition for id: ID_1840\n",
            "84013 Transition for id: ID_1841\n",
            "84215 Transition for id: ID_1843\n",
            "84364 Transition for id: ID_1844\n",
            "84488 Transition for id: ID_1846\n",
            "84587 Transition for id: ID_1847\n",
            "84835 Transition for id: ID_1849\n",
            "85010 Transition for id: ID_1853\n",
            "85494 Transition for id: ID_1874\n",
            "85717 Transition for id: ID_1876\n",
            "86052 Transition for id: ID_1879\n",
            "86300 Transition for id: ID_1899\n",
            "86548 Transition for id: ID_1903\n",
            "87079 Transition for id: ID_1910\n",
            "87292 Transition for id: ID_1912\n",
            "87699 Transition for id: ID_1916\n",
            "87912 Transition for id: ID_1918\n",
            "88035 Transition for id: ID_1919\n",
            "88184 Transition for id: ID_1920\n",
            "88306 Transition for id: ID_1921\n",
            "88375 Transition for id: ID_1922\n",
            "88701 Transition for id: ID_1925\n",
            "89017 Transition for id: ID_1931\n",
            "89265 Transition for id: ID_1947\n",
            "89445 Transition for id: ID_1949\n",
            "89538 Transition for id: ID_1950\n",
            "90037 Transition for id: ID_1975\n",
            "91237 Transition for id: ID_1989\n",
            "91660 Transition for id: ID_1999\n",
            "91743 Transition for id: ID_2000\n",
            "91995 Transition for id: ID_2015\n",
            "92427 Transition for id: ID_2037\n",
            "92607 Transition for id: ID_2042\n",
            "92822 Transition for id: ID_2046\n",
            "93431 Transition for id: ID_2058\n",
            "93526 Transition for id: ID_2059\n",
            "93731 Transition for id: ID_2062\n",
            "93826 Transition for id: ID_2063\n",
            "94173 Transition for id: ID_2066\n",
            "94331 Transition for id: ID_2068\n",
            "94451 Transition for id: ID_2069\n",
            "94828 Transition for id: ID_2073\n",
            "95099 Transition for id: ID_2077\n",
            "95223 Transition for id: ID_2079\n",
            "95479 Transition for id: ID_2085\n",
            "95883 Transition for id: ID_2105\n",
            "96107 Transition for id: ID_2128\n",
            "96261 Transition for id: ID_2129\n",
            "97098 Transition for id: ID_2136\n",
            "97189 Transition for id: ID_2138\n",
            "97403 Transition for id: ID_2140\n",
            "97527 Transition for id: ID_2141\n",
            "97634 Transition for id: ID_2143\n",
            "97709 Transition for id: ID_2144\n",
            "98040 Transition for id: ID_2152\n",
            "98098 Transition for id: ID_2153\n",
            "98175 Transition for id: ID_2154\n",
            "98648 Transition for id: ID_2181\n",
            "98797 Transition for id: ID_2182\n",
            "99149 Transition for id: ID_2186\n",
            "99303 Transition for id: ID_2187\n",
            "99521 Transition for id: ID_2190\n",
            "99754 Transition for id: ID_2192\n",
            "99873 Transition for id: ID_2193\n",
            "100106 Transition for id: ID_2195\n",
            "100369 Transition for id: ID_2197\n",
            "100523 Transition for id: ID_2198\n",
            "100617 Transition for id: ID_2199\n",
            "100741 Transition for id: ID_2200\n",
            "100890 Transition for id: ID_2201\n",
            "100989 Transition for id: ID_2202\n",
            "101105 Transition for id: ID_2203\n",
            "101231 Transition for id: ID_2206\n",
            "101389 Transition for id: ID_2208\n",
            "101557 Transition for id: ID_2223\n",
            "101691 Transition for id: ID_2225\n",
            "101812 Transition for id: ID_2226\n",
            "101911 Transition for id: ID_2245\n",
            "102015 Transition for id: ID_2248\n",
            "102283 Transition for id: ID_2250\n",
            "102412 Transition for id: ID_2255\n",
            "102458 Transition for id: ID_2255\n",
            "102556 Transition for id: ID_2256\n",
            "102804 Transition for id: ID_2258\n",
            "102903 Transition for id: ID_2259\n",
            "103052 Transition for id: ID_2262\n",
            "103285 Transition for id: ID_2265\n",
            "103652 Transition for id: ID_2268\n",
            "103698 Transition for id: ID_2268\n",
            "103796 Transition for id: ID_2269\n",
            "103895 Transition for id: ID_2270\n",
            "104161 Transition for id: ID_2272\n",
            "104384 Transition for id: ID_2274\n",
            "104493 Transition for id: ID_2276\n",
            "104773 Transition for id: ID_2288\n",
            "105379 Transition for id: ID_2311\n",
            "105579 Transition for id: ID_2313\n",
            "106159 Transition for id: ID_2326\n",
            "106379 Transition for id: ID_2329\n",
            "106779 Transition for id: ID_2335\n",
            "107060 Transition for id: ID_2339\n",
            "107371 Transition for id: ID_2348\n",
            "107477 Transition for id: ID_2349\n",
            "107710 Transition for id: ID_2362\n",
            "108236 Transition for id: ID_2391\n",
            "108706 Transition for id: ID_2396\n",
            "108779 Transition for id: ID_2397\n",
            "108909 Transition for id: ID_2399\n",
            "109188 Transition for id: ID_2402\n",
            "109427 Transition for id: ID_2404\n",
            "109527 Transition for id: ID_2405\n",
            "109607 Transition for id: ID_2406\n",
            "110316 Transition for id: ID_2415\n",
            "110557 Transition for id: ID_2421\n",
            "110640 Transition for id: ID_2422\n",
            "110826 Transition for id: ID_2435\n",
            "111150 Transition for id: ID_2439\n",
            "111203 Transition for id: ID_2440\n",
            "111415 Transition for id: ID_2442\n",
            "111515 Transition for id: ID_2444\n",
            "111615 Transition for id: ID_2445\n",
            "111917 Transition for id: ID_2468\n",
            "111990 Transition for id: ID_2469\n",
            "112090 Transition for id: ID_2470\n",
            "112217 Transition for id: ID_2471\n",
            "112290 Transition for id: ID_2472\n",
            "112390 Transition for id: ID_2473\n",
            "112597 Transition for id: ID_2475\n",
            "112770 Transition for id: ID_2477\n",
            "112865 Transition for id: ID_2478\n",
            "112980 Transition for id: ID_2479\n",
            "113080 Transition for id: ID_2480\n",
            "113260 Transition for id: ID_2482\n",
            "113392 Transition for id: ID_2483\n",
            "113445 Transition for id: ID_2484\n",
            "113565 Transition for id: ID_2485\n",
            "113665 Transition for id: ID_2486\n",
            "113929 Transition for id: ID_2490\n",
            "114169 Transition for id: ID_2496\n",
            "114250 Transition for id: ID_2498\n",
            "114766 Transition for id: ID_2537\n",
            "115076 Transition for id: ID_2543\n",
            "115346 Transition for id: ID_2547\n",
            "115690 Transition for id: ID_2550\n",
            "116470 Transition for id: ID_2559\n",
            "116802 Transition for id: ID_2562\n",
            "116875 Transition for id: ID_2563\n",
            "117368 Transition for id: ID_2570\n",
            "117656 Transition for id: ID_2576\n",
            "117704 Transition for id: ID_2578\n",
            "117789 Transition for id: ID_2579\n",
            "118027 Transition for id: ID_2596\n",
            "118375 Transition for id: ID_2617\n",
            "119030 Transition for id: ID_2625\n",
            "119154 Transition for id: ID_2630\n",
            "119243 Transition for id: ID_2631\n",
            "119491 Transition for id: ID_2635\n",
            "119615 Transition for id: ID_2636\n",
            "119888 Transition for id: ID_2638\n",
            "119976 Transition for id: ID_2639\n",
            "120125 Transition for id: ID_2640\n",
            "120224 Transition for id: ID_2641\n",
            "120322 Transition for id: ID_2642\n",
            "120466 Transition for id: ID_2643\n",
            "120888 Transition for id: ID_2653\n",
            "121146 Transition for id: ID_2672\n",
            "121597 Transition for id: ID_2697\n",
            "121797 Transition for id: ID_2699\n",
            "121917 Transition for id: ID_2702\n",
            "122041 Transition for id: ID_2704\n",
            "122241 Transition for id: ID_2706\n",
            "122421 Transition for id: ID_2710\n",
            "122521 Transition for id: ID_2711\n",
            "122721 Transition for id: ID_2713\n",
            "122846 Transition for id: ID_2714\n",
            "122921 Transition for id: ID_2715\n",
            "122968 Transition for id: ID_2715\n",
            "123099 Transition for id: ID_2718\n",
            "123219 Transition for id: ID_2719\n",
            "123446 Transition for id: ID_2722\n",
            "123830 Transition for id: ID_2728\n",
            "124071 Transition for id: ID_2734\n",
            "124244 Transition for id: ID_2736\n",
            "124308 Transition for id: ID_2739\n",
            "124367 Transition for id: ID_2740\n",
            "124559 Transition for id: ID_2744\n",
            "124687 Transition for id: ID_2746\n",
            "124751 Transition for id: ID_2747\n",
            "124815 Transition for id: ID_2748\n",
            "125012 Transition for id: ID_2770\n",
            "125260 Transition for id: ID_2772\n",
            "125538 Transition for id: ID_2776\n",
            "125617 Transition for id: ID_2777\n",
            "125880 Transition for id: ID_2779\n",
            "126113 Transition for id: ID_2784\n",
            "126505 Transition for id: ID_2787\n",
            "126604 Transition for id: ID_2788\n",
            "126748 Transition for id: ID_2789\n",
            "126902 Transition for id: ID_2791\n",
            "127120 Transition for id: ID_2793\n",
            "127244 Transition for id: ID_2794\n",
            "127368 Transition for id: ID_2795\n",
            "127517 Transition for id: ID_2796\n",
            "127630 Transition for id: ID_2797\n",
            "127764 Transition for id: ID_2798\n",
            "127863 Transition for id: ID_2800\n",
            "127977 Transition for id: ID_2801\n",
            "128275 Transition for id: ID_2811\n",
            "128439 Transition for id: ID_2813\n",
            "128817 Transition for id: ID_2846\n",
            "129100 Transition for id: ID_2849\n",
            "129437 Transition for id: ID_2855\n",
            "129685 Transition for id: ID_2857\n",
            "129963 Transition for id: ID_2863\n",
            "130057 Transition for id: ID_2864\n",
            "130305 Transition for id: ID_2867\n",
            "130538 Transition for id: ID_2869\n",
            "130662 Transition for id: ID_2870\n",
            "130798 Transition for id: ID_2872\n",
            "130896 Transition for id: ID_2873\n",
            "131112 Transition for id: ID_2875\n",
            "131625 Transition for id: ID_2886\n",
            "132052 Transition for id: ID_2903\n",
            "132826 Transition for id: ID_2923\n",
            "133575 Transition for id: ID_2935\n",
            "133689 Transition for id: ID_2936\n",
            "133844 Transition for id: ID_2937\n",
            "133912 Transition for id: ID_2938\n",
            "134211 Transition for id: ID_2941\n",
            "134407 Transition for id: ID_2943\n",
            "134556 Transition for id: ID_2944\n",
            "134680 Transition for id: ID_2945\n",
            "134821 Transition for id: ID_2946\n",
            "135021 Transition for id: ID_2948\n",
            "135094 Transition for id: ID_2949\n",
            "135213 Transition for id: ID_2950\n",
            "135542 Transition for id: ID_2959\n",
            "135615 Transition for id: ID_2960\n",
            "135989 Transition for id: ID_2980\n",
            "136197 Transition for id: ID_2999\n",
            "136540 Transition for id: ID_3009\n",
            "136711 Transition for id: ID_3010\n",
            "136784 Transition for id: ID_3011\n",
            "136933 Transition for id: ID_3014\n",
            "137117 Transition for id: ID_3018\n",
            "137465 Transition for id: ID_3023\n",
            "137589 Transition for id: ID_3024\n",
            "137713 Transition for id: ID_3025\n",
            "137864 Transition for id: ID_3026\n",
            "137962 Transition for id: ID_3027\n",
            "138112 Transition for id: ID_3028\n",
            "138185 Transition for id: ID_3029\n",
            "138417 Transition for id: ID_3031\n",
            "138628 Transition for id: ID_3033\n",
            "139078 Transition for id: ID_3044\n",
            "139408 Transition for id: ID_3063\n",
            "140678 Transition for id: ID_3099\n",
            "140802 Transition for id: ID_3100\n",
            "141123 Transition for id: ID_3104\n",
            "141298 Transition for id: ID_3105\n",
            "141371 Transition for id: ID_3106\n",
            "141520 Transition for id: ID_3107\n",
            "142129 Transition for id: ID_3112\n",
            "142340 Transition for id: ID_3115\n",
            "142535 Transition for id: ID_3118\n",
            "142613 Transition for id: ID_3119\n",
            "142945 Transition for id: ID_3123\n",
            "143073 Transition for id: ID_3128\n",
            "143190 Transition for id: ID_3130\n",
            "143318 Transition for id: ID_3132\n",
            "143451 Transition for id: ID_3139\n",
            "143709 Transition for id: ID_3161\n",
            "143957 Transition for id: ID_3164\n",
            "144154 Transition for id: ID_3167\n",
            "144432 Transition for id: ID_3169\n",
            "144582 Transition for id: ID_3170\n",
            "144898 Transition for id: ID_3174\n",
            "145022 Transition for id: ID_3175\n",
            "145146 Transition for id: ID_3176\n",
            "145202 Transition for id: ID_3176\n",
            "145300 Transition for id: ID_3181\n",
            "146030 Transition for id: ID_3189\n",
            "146149 Transition for id: ID_3190\n",
            "146268 Transition for id: ID_3191\n",
            "146543 Transition for id: ID_3194\n",
            "146715 Transition for id: ID_3201\n",
            "147349 Transition for id: ID_3221\n"
          ]
        }
      ]
    },
    {
      "cell_type": "markdown",
      "source": [
        "##### Calculate derivatives for each group"
      ],
      "metadata": {
        "id": "GJPc7Uy00TXg"
      }
    },
    {
      "cell_type": "code",
      "source": [
        "# Calculate the pseudo derivative into ST and LT index intervals"
      ],
      "metadata": {
        "id": "xQH0h6C-0TXi"
      },
      "execution_count": 29,
      "outputs": []
    },
    {
      "cell_type": "code",
      "source": [
        "# insert values into EvalDiff_ST and EvalDiff_LT columns"
      ],
      "metadata": {
        "id": "fuwLBcqe0TXj"
      },
      "execution_count": 30,
      "outputs": []
    },
    {
      "cell_type": "markdown",
      "source": [
        "# Testing features"
      ],
      "metadata": {
        "id": "HMHGr-QMG4Hp"
      }
    },
    {
      "cell_type": "markdown",
      "source": [
        "##### Valueref, salesNormCoefficient, norm_mean"
      ],
      "metadata": {
        "id": "c1szTJnhG3-Q"
      }
    },
    {
      "cell_type": "markdown",
      "source": [
        "##### Differrential, or incremental difference`"
      ],
      "metadata": {
        "id": "dKCNH0txHLrO"
      }
    },
    {
      "cell_type": "code",
      "source": [
        "candidates.volume.head()"
      ],
      "metadata": {
        "id": "HW79Og1yFbid",
        "colab": {
          "base_uri": "https://localhost:8080/"
        },
        "outputId": "871e69e1-7e43-4ffc-90d2-e27039d22ddf"
      },
      "execution_count": 31,
      "outputs": [
        {
          "output_type": "execute_result",
          "data": {
            "text/plain": [
              "0    1.145774e+07\n",
              "1    2.985987e+09\n",
              "2    1.984680e+09\n",
              "3    6.267384e+09\n",
              "4    6.293787e+09\n",
              "Name: volume, dtype: float64"
            ]
          },
          "metadata": {},
          "execution_count": 31
        }
      ]
    },
    {
      "cell_type": "code",
      "source": [
        "candidates.volume.diff().head(20)"
      ],
      "metadata": {
        "id": "3B7V9R5lFOPO",
        "colab": {
          "base_uri": "https://localhost:8080/"
        },
        "outputId": "492bddd9-8595-4fac-f6f2-f3142dd81259"
      },
      "execution_count": 32,
      "outputs": [
        {
          "output_type": "execute_result",
          "data": {
            "text/plain": [
              "0              NaN\n",
              "1     2.974529e+09\n",
              "2    -1.001307e+09\n",
              "3     4.282704e+09\n",
              "4     2.640262e+07\n",
              "5    -1.801356e+09\n",
              "6     2.297526e+09\n",
              "7    -3.783545e+09\n",
              "8     1.706705e+09\n",
              "9    -1.488012e+09\n",
              "10    3.105546e+09\n",
              "11   -3.285881e+09\n",
              "12    1.219004e+09\n",
              "13   -2.309482e+09\n",
              "14    2.246713e+09\n",
              "15    4.971663e+08\n",
              "16    1.092969e+09\n",
              "17   -3.670960e+09\n",
              "18    2.324925e+09\n",
              "19    3.105048e+09\n",
              "Name: volume, dtype: float64"
            ]
          },
          "metadata": {},
          "execution_count": 32
        }
      ]
    },
    {
      "cell_type": "markdown",
      "source": [
        "##### Normalization of sales"
      ],
      "metadata": {
        "id": "t8peQBoUjEBj"
      }
    },
    {
      "cell_type": "code",
      "source": [
        "# Determine best valueRef for Dataframe, and test feature\n",
        "print(normalizeSales(candidates.volume,1))"
      ],
      "metadata": {
        "colab": {
          "base_uri": "https://localhost:8080/"
        },
        "id": "uMBWFKz23Jkt",
        "outputId": "40494762-89d8-4121-92f0-473678cd60f7"
      },
      "execution_count": 33,
      "outputs": [
        {
          "output_type": "stream",
          "name": "stdout",
          "text": [
            "Range for all registers to fit valueref: 24409918583946\n",
            "real mean calculated 83165554307.12386\n",
            "(4.096695351772633e-14, 0.003407039397575888)\n"
          ]
        }
      ]
    },
    {
      "cell_type": "code",
      "source": [
        "# Once cheched, validate that with new valueRef coefficient is 1.0\n",
        "print(normalizeSales(candidates.volume,24409918583946))"
      ],
      "metadata": {
        "colab": {
          "base_uri": "https://localhost:8080/"
        },
        "id": "95nAfONd090S",
        "outputId": "5844aaf5-1eaf-4bab-84ae-ea7dfe5fe093"
      },
      "execution_count": 34,
      "outputs": [
        {
          "output_type": "stream",
          "name": "stdout",
          "text": [
            "Range for all registers to fit valueref: 24409918583946\n",
            "real mean calculated 83165554307.12386\n",
            "(1.0, 83165554307.12386)\n"
          ]
        }
      ]
    },
    {
      "cell_type": "markdown",
      "source": [
        "##### candidates dataFrame analysis"
      ],
      "metadata": {
        "id": "SO7OetQJWNkN"
      }
    },
    {
      "cell_type": "code",
      "source": [
        "candidates.head()"
      ],
      "metadata": {
        "id": "OIjzTpnIHWSB",
        "colab": {
          "base_uri": "https://localhost:8080/",
          "height": 0
        },
        "outputId": "3cb2fe3d-e94f-4b23-8b96-21303b22bb16"
      },
      "execution_count": 35,
      "outputs": [
        {
          "output_type": "execute_result",
          "data": {
            "text/plain": [
              "   Unnamed: 0 cluster_id       date stage_name        volume\n",
              "0         248       ID_3 2012-01-01   Maturity  1.145774e+07\n",
              "1         249       ID_3 2012-02-01   Maturity  2.985987e+09\n",
              "2         250       ID_3 2012-03-01   Maturity  1.984680e+09\n",
              "3         251       ID_3 2012-04-01   Maturity  6.267384e+09\n",
              "4         252       ID_3 2012-05-01   Maturity  6.293787e+09"
            ],
            "text/html": [
              "\n",
              "  <div id=\"df-20b4a492-bf08-418f-a1ca-6288be154552\">\n",
              "    <div class=\"colab-df-container\">\n",
              "      <div>\n",
              "<style scoped>\n",
              "    .dataframe tbody tr th:only-of-type {\n",
              "        vertical-align: middle;\n",
              "    }\n",
              "\n",
              "    .dataframe tbody tr th {\n",
              "        vertical-align: top;\n",
              "    }\n",
              "\n",
              "    .dataframe thead th {\n",
              "        text-align: right;\n",
              "    }\n",
              "</style>\n",
              "<table border=\"1\" class=\"dataframe\">\n",
              "  <thead>\n",
              "    <tr style=\"text-align: right;\">\n",
              "      <th></th>\n",
              "      <th>Unnamed: 0</th>\n",
              "      <th>cluster_id</th>\n",
              "      <th>date</th>\n",
              "      <th>stage_name</th>\n",
              "      <th>volume</th>\n",
              "    </tr>\n",
              "  </thead>\n",
              "  <tbody>\n",
              "    <tr>\n",
              "      <th>0</th>\n",
              "      <td>248</td>\n",
              "      <td>ID_3</td>\n",
              "      <td>2012-01-01</td>\n",
              "      <td>Maturity</td>\n",
              "      <td>1.145774e+07</td>\n",
              "    </tr>\n",
              "    <tr>\n",
              "      <th>1</th>\n",
              "      <td>249</td>\n",
              "      <td>ID_3</td>\n",
              "      <td>2012-02-01</td>\n",
              "      <td>Maturity</td>\n",
              "      <td>2.985987e+09</td>\n",
              "    </tr>\n",
              "    <tr>\n",
              "      <th>2</th>\n",
              "      <td>250</td>\n",
              "      <td>ID_3</td>\n",
              "      <td>2012-03-01</td>\n",
              "      <td>Maturity</td>\n",
              "      <td>1.984680e+09</td>\n",
              "    </tr>\n",
              "    <tr>\n",
              "      <th>3</th>\n",
              "      <td>251</td>\n",
              "      <td>ID_3</td>\n",
              "      <td>2012-04-01</td>\n",
              "      <td>Maturity</td>\n",
              "      <td>6.267384e+09</td>\n",
              "    </tr>\n",
              "    <tr>\n",
              "      <th>4</th>\n",
              "      <td>252</td>\n",
              "      <td>ID_3</td>\n",
              "      <td>2012-05-01</td>\n",
              "      <td>Maturity</td>\n",
              "      <td>6.293787e+09</td>\n",
              "    </tr>\n",
              "  </tbody>\n",
              "</table>\n",
              "</div>\n",
              "      <button class=\"colab-df-convert\" onclick=\"convertToInteractive('df-20b4a492-bf08-418f-a1ca-6288be154552')\"\n",
              "              title=\"Convert this dataframe to an interactive table.\"\n",
              "              style=\"display:none;\">\n",
              "        \n",
              "  <svg xmlns=\"http://www.w3.org/2000/svg\" height=\"24px\"viewBox=\"0 0 24 24\"\n",
              "       width=\"24px\">\n",
              "    <path d=\"M0 0h24v24H0V0z\" fill=\"none\"/>\n",
              "    <path d=\"M18.56 5.44l.94 2.06.94-2.06 2.06-.94-2.06-.94-.94-2.06-.94 2.06-2.06.94zm-11 1L8.5 8.5l.94-2.06 2.06-.94-2.06-.94L8.5 2.5l-.94 2.06-2.06.94zm10 10l.94 2.06.94-2.06 2.06-.94-2.06-.94-.94-2.06-.94 2.06-2.06.94z\"/><path d=\"M17.41 7.96l-1.37-1.37c-.4-.4-.92-.59-1.43-.59-.52 0-1.04.2-1.43.59L10.3 9.45l-7.72 7.72c-.78.78-.78 2.05 0 2.83L4 21.41c.39.39.9.59 1.41.59.51 0 1.02-.2 1.41-.59l7.78-7.78 2.81-2.81c.8-.78.8-2.07 0-2.86zM5.41 20L4 18.59l7.72-7.72 1.47 1.35L5.41 20z\"/>\n",
              "  </svg>\n",
              "      </button>\n",
              "      \n",
              "  <style>\n",
              "    .colab-df-container {\n",
              "      display:flex;\n",
              "      flex-wrap:wrap;\n",
              "      gap: 12px;\n",
              "    }\n",
              "\n",
              "    .colab-df-convert {\n",
              "      background-color: #E8F0FE;\n",
              "      border: none;\n",
              "      border-radius: 50%;\n",
              "      cursor: pointer;\n",
              "      display: none;\n",
              "      fill: #1967D2;\n",
              "      height: 32px;\n",
              "      padding: 0 0 0 0;\n",
              "      width: 32px;\n",
              "    }\n",
              "\n",
              "    .colab-df-convert:hover {\n",
              "      background-color: #E2EBFA;\n",
              "      box-shadow: 0px 1px 2px rgba(60, 64, 67, 0.3), 0px 1px 3px 1px rgba(60, 64, 67, 0.15);\n",
              "      fill: #174EA6;\n",
              "    }\n",
              "\n",
              "    [theme=dark] .colab-df-convert {\n",
              "      background-color: #3B4455;\n",
              "      fill: #D2E3FC;\n",
              "    }\n",
              "\n",
              "    [theme=dark] .colab-df-convert:hover {\n",
              "      background-color: #434B5C;\n",
              "      box-shadow: 0px 1px 3px 1px rgba(0, 0, 0, 0.15);\n",
              "      filter: drop-shadow(0px 1px 2px rgba(0, 0, 0, 0.3));\n",
              "      fill: #FFFFFF;\n",
              "    }\n",
              "  </style>\n",
              "\n",
              "      <script>\n",
              "        const buttonEl =\n",
              "          document.querySelector('#df-20b4a492-bf08-418f-a1ca-6288be154552 button.colab-df-convert');\n",
              "        buttonEl.style.display =\n",
              "          google.colab.kernel.accessAllowed ? 'block' : 'none';\n",
              "\n",
              "        async function convertToInteractive(key) {\n",
              "          const element = document.querySelector('#df-20b4a492-bf08-418f-a1ca-6288be154552');\n",
              "          const dataTable =\n",
              "            await google.colab.kernel.invokeFunction('convertToInteractive',\n",
              "                                                     [key], {});\n",
              "          if (!dataTable) return;\n",
              "\n",
              "          const docLinkHtml = 'Like what you see? Visit the ' +\n",
              "            '<a target=\"_blank\" href=https://colab.research.google.com/notebooks/data_table.ipynb>data table notebook</a>'\n",
              "            + ' to learn more about interactive tables.';\n",
              "          element.innerHTML = '';\n",
              "          dataTable['output_type'] = 'display_data';\n",
              "          await google.colab.output.renderOutput(dataTable, element);\n",
              "          const docLink = document.createElement('div');\n",
              "          docLink.innerHTML = docLinkHtml;\n",
              "          element.appendChild(docLink);\n",
              "        }\n",
              "      </script>\n",
              "    </div>\n",
              "  </div>\n",
              "  "
            ]
          },
          "metadata": {},
          "execution_count": 35
        }
      ]
    },
    {
      "cell_type": "code",
      "source": [
        "candidates.info()"
      ],
      "metadata": {
        "id": "-35v0GwhrRNO",
        "colab": {
          "base_uri": "https://localhost:8080/"
        },
        "outputId": "97d8d024-cb74-41ed-dc5f-3783be337c1e"
      },
      "execution_count": 36,
      "outputs": [
        {
          "output_type": "stream",
          "name": "stdout",
          "text": [
            "<class 'pandas.core.frame.DataFrame'>\n",
            "RangeIndex: 147397 entries, 0 to 147396\n",
            "Data columns (total 5 columns):\n",
            " #   Column      Non-Null Count   Dtype         \n",
            "---  ------      --------------   -----         \n",
            " 0   Unnamed: 0  147397 non-null  int64         \n",
            " 1   cluster_id  147397 non-null  object        \n",
            " 2   date        147397 non-null  datetime64[ns]\n",
            " 3   stage_name  147397 non-null  object        \n",
            " 4   volume      147397 non-null  float64       \n",
            "dtypes: datetime64[ns](1), float64(1), int64(1), object(2)\n",
            "memory usage: 5.6+ MB\n"
          ]
        }
      ]
    },
    {
      "cell_type": "code",
      "source": [
        "candidates['cluster_id'].describe()"
      ],
      "metadata": {
        "id": "3WoloBx1hYDJ",
        "colab": {
          "base_uri": "https://localhost:8080/"
        },
        "outputId": "e6823601-2bd6-4496-dfd0-9d4e99f9f767"
      },
      "execution_count": 37,
      "outputs": [
        {
          "output_type": "execute_result",
          "data": {
            "text/plain": [
              "count     147397\n",
              "unique      1464\n",
              "top         ID_3\n",
              "freq         124\n",
              "Name: cluster_id, dtype: object"
            ]
          },
          "metadata": {},
          "execution_count": 37
        }
      ]
    },
    {
      "cell_type": "code",
      "source": [
        "candidates['date'].describe()"
      ],
      "metadata": {
        "id": "yO8kLFVSiEwi",
        "colab": {
          "base_uri": "https://localhost:8080/"
        },
        "outputId": "fc026bf0-7148-4df2-de29-7328b38433d0"
      },
      "execution_count": 38,
      "outputs": [
        {
          "output_type": "stream",
          "name": "stderr",
          "text": [
            "/usr/local/lib/python3.7/dist-packages/ipykernel_launcher.py:1: FutureWarning: Treating datetime data as categorical rather than numeric in `.describe` is deprecated and will be removed in a future version of pandas. Specify `datetime_is_numeric=True` to silence this warning and adopt the future behavior now.\n",
            "  \"\"\"Entry point for launching an IPython kernel.\n"
          ]
        },
        {
          "output_type": "execute_result",
          "data": {
            "text/plain": [
              "count                  147397\n",
              "unique                    124\n",
              "top       2022-04-01 00:00:00\n",
              "freq                     1464\n",
              "first     2012-01-01 00:00:00\n",
              "last      2022-04-01 00:00:00\n",
              "Name: date, dtype: object"
            ]
          },
          "metadata": {},
          "execution_count": 38
        }
      ]
    },
    {
      "cell_type": "code",
      "source": [
        "candidates['volume'].describe()"
      ],
      "metadata": {
        "id": "_KQsma23iMNd",
        "colab": {
          "base_uri": "https://localhost:8080/"
        },
        "outputId": "8bb3ec19-d134-4c42-8069-04108cbb8c0b"
      },
      "execution_count": 39,
      "outputs": [
        {
          "output_type": "execute_result",
          "data": {
            "text/plain": [
              "count    1.473970e+05\n",
              "mean     8.316555e+10\n",
              "std      5.787569e+11\n",
              "min     -1.000000e+00\n",
              "25%     -1.000000e+00\n",
              "50%      2.368016e+07\n",
              "75%      4.389145e+09\n",
              "max      2.440992e+13\n",
              "Name: volume, dtype: float64"
            ]
          },
          "metadata": {},
          "execution_count": 39
        }
      ]
    },
    {
      "cell_type": "code",
      "source": [
        "candidates['stage_name'].describe()"
      ],
      "metadata": {
        "id": "furCaGXrsars",
        "colab": {
          "base_uri": "https://localhost:8080/"
        },
        "outputId": "391c63dc-3f61-466b-d600-0e3345eebf99"
      },
      "execution_count": 40,
      "outputs": [
        {
          "output_type": "execute_result",
          "data": {
            "text/plain": [
              "count          147397\n",
              "unique              8\n",
              "top       Forecasting\n",
              "freq            54168\n",
              "Name: stage_name, dtype: object"
            ]
          },
          "metadata": {},
          "execution_count": 40
        }
      ]
    },
    {
      "cell_type": "code",
      "source": [
        "candidates['stage_name'].unique()"
      ],
      "metadata": {
        "id": "QE8aCYtJslf4",
        "colab": {
          "base_uri": "https://localhost:8080/"
        },
        "outputId": "f861b8fe-eba7-4fc0-81da-85bb727703a1"
      },
      "execution_count": 41,
      "outputs": [
        {
          "output_type": "execute_result",
          "data": {
            "text/plain": [
              "array(['Maturity', 'Forecasting', 'Decline', 'Second_Growth',\n",
              "       'Second_Maturity', 'Growth', 'Lead_in_Maturity', 'Lead_in_Decline'],\n",
              "      dtype=object)"
            ]
          },
          "metadata": {},
          "execution_count": 41
        }
      ]
    },
    {
      "cell_type": "code",
      "source": [
        "candidates.head()"
      ],
      "metadata": {
        "colab": {
          "base_uri": "https://localhost:8080/",
          "height": 0
        },
        "id": "K74v5mCKKGhH",
        "outputId": "d03f4f21-2da0-4368-b77b-a6cadadeb0c9"
      },
      "execution_count": 42,
      "outputs": [
        {
          "output_type": "execute_result",
          "data": {
            "text/plain": [
              "   Unnamed: 0 cluster_id       date stage_name        volume\n",
              "0         248       ID_3 2012-01-01   Maturity  1.145774e+07\n",
              "1         249       ID_3 2012-02-01   Maturity  2.985987e+09\n",
              "2         250       ID_3 2012-03-01   Maturity  1.984680e+09\n",
              "3         251       ID_3 2012-04-01   Maturity  6.267384e+09\n",
              "4         252       ID_3 2012-05-01   Maturity  6.293787e+09"
            ],
            "text/html": [
              "\n",
              "  <div id=\"df-6dfea563-cd20-40dd-b308-9f720c7a929d\">\n",
              "    <div class=\"colab-df-container\">\n",
              "      <div>\n",
              "<style scoped>\n",
              "    .dataframe tbody tr th:only-of-type {\n",
              "        vertical-align: middle;\n",
              "    }\n",
              "\n",
              "    .dataframe tbody tr th {\n",
              "        vertical-align: top;\n",
              "    }\n",
              "\n",
              "    .dataframe thead th {\n",
              "        text-align: right;\n",
              "    }\n",
              "</style>\n",
              "<table border=\"1\" class=\"dataframe\">\n",
              "  <thead>\n",
              "    <tr style=\"text-align: right;\">\n",
              "      <th></th>\n",
              "      <th>Unnamed: 0</th>\n",
              "      <th>cluster_id</th>\n",
              "      <th>date</th>\n",
              "      <th>stage_name</th>\n",
              "      <th>volume</th>\n",
              "    </tr>\n",
              "  </thead>\n",
              "  <tbody>\n",
              "    <tr>\n",
              "      <th>0</th>\n",
              "      <td>248</td>\n",
              "      <td>ID_3</td>\n",
              "      <td>2012-01-01</td>\n",
              "      <td>Maturity</td>\n",
              "      <td>1.145774e+07</td>\n",
              "    </tr>\n",
              "    <tr>\n",
              "      <th>1</th>\n",
              "      <td>249</td>\n",
              "      <td>ID_3</td>\n",
              "      <td>2012-02-01</td>\n",
              "      <td>Maturity</td>\n",
              "      <td>2.985987e+09</td>\n",
              "    </tr>\n",
              "    <tr>\n",
              "      <th>2</th>\n",
              "      <td>250</td>\n",
              "      <td>ID_3</td>\n",
              "      <td>2012-03-01</td>\n",
              "      <td>Maturity</td>\n",
              "      <td>1.984680e+09</td>\n",
              "    </tr>\n",
              "    <tr>\n",
              "      <th>3</th>\n",
              "      <td>251</td>\n",
              "      <td>ID_3</td>\n",
              "      <td>2012-04-01</td>\n",
              "      <td>Maturity</td>\n",
              "      <td>6.267384e+09</td>\n",
              "    </tr>\n",
              "    <tr>\n",
              "      <th>4</th>\n",
              "      <td>252</td>\n",
              "      <td>ID_3</td>\n",
              "      <td>2012-05-01</td>\n",
              "      <td>Maturity</td>\n",
              "      <td>6.293787e+09</td>\n",
              "    </tr>\n",
              "  </tbody>\n",
              "</table>\n",
              "</div>\n",
              "      <button class=\"colab-df-convert\" onclick=\"convertToInteractive('df-6dfea563-cd20-40dd-b308-9f720c7a929d')\"\n",
              "              title=\"Convert this dataframe to an interactive table.\"\n",
              "              style=\"display:none;\">\n",
              "        \n",
              "  <svg xmlns=\"http://www.w3.org/2000/svg\" height=\"24px\"viewBox=\"0 0 24 24\"\n",
              "       width=\"24px\">\n",
              "    <path d=\"M0 0h24v24H0V0z\" fill=\"none\"/>\n",
              "    <path d=\"M18.56 5.44l.94 2.06.94-2.06 2.06-.94-2.06-.94-.94-2.06-.94 2.06-2.06.94zm-11 1L8.5 8.5l.94-2.06 2.06-.94-2.06-.94L8.5 2.5l-.94 2.06-2.06.94zm10 10l.94 2.06.94-2.06 2.06-.94-2.06-.94-.94-2.06-.94 2.06-2.06.94z\"/><path d=\"M17.41 7.96l-1.37-1.37c-.4-.4-.92-.59-1.43-.59-.52 0-1.04.2-1.43.59L10.3 9.45l-7.72 7.72c-.78.78-.78 2.05 0 2.83L4 21.41c.39.39.9.59 1.41.59.51 0 1.02-.2 1.41-.59l7.78-7.78 2.81-2.81c.8-.78.8-2.07 0-2.86zM5.41 20L4 18.59l7.72-7.72 1.47 1.35L5.41 20z\"/>\n",
              "  </svg>\n",
              "      </button>\n",
              "      \n",
              "  <style>\n",
              "    .colab-df-container {\n",
              "      display:flex;\n",
              "      flex-wrap:wrap;\n",
              "      gap: 12px;\n",
              "    }\n",
              "\n",
              "    .colab-df-convert {\n",
              "      background-color: #E8F0FE;\n",
              "      border: none;\n",
              "      border-radius: 50%;\n",
              "      cursor: pointer;\n",
              "      display: none;\n",
              "      fill: #1967D2;\n",
              "      height: 32px;\n",
              "      padding: 0 0 0 0;\n",
              "      width: 32px;\n",
              "    }\n",
              "\n",
              "    .colab-df-convert:hover {\n",
              "      background-color: #E2EBFA;\n",
              "      box-shadow: 0px 1px 2px rgba(60, 64, 67, 0.3), 0px 1px 3px 1px rgba(60, 64, 67, 0.15);\n",
              "      fill: #174EA6;\n",
              "    }\n",
              "\n",
              "    [theme=dark] .colab-df-convert {\n",
              "      background-color: #3B4455;\n",
              "      fill: #D2E3FC;\n",
              "    }\n",
              "\n",
              "    [theme=dark] .colab-df-convert:hover {\n",
              "      background-color: #434B5C;\n",
              "      box-shadow: 0px 1px 3px 1px rgba(0, 0, 0, 0.15);\n",
              "      filter: drop-shadow(0px 1px 2px rgba(0, 0, 0, 0.3));\n",
              "      fill: #FFFFFF;\n",
              "    }\n",
              "  </style>\n",
              "\n",
              "      <script>\n",
              "        const buttonEl =\n",
              "          document.querySelector('#df-6dfea563-cd20-40dd-b308-9f720c7a929d button.colab-df-convert');\n",
              "        buttonEl.style.display =\n",
              "          google.colab.kernel.accessAllowed ? 'block' : 'none';\n",
              "\n",
              "        async function convertToInteractive(key) {\n",
              "          const element = document.querySelector('#df-6dfea563-cd20-40dd-b308-9f720c7a929d');\n",
              "          const dataTable =\n",
              "            await google.colab.kernel.invokeFunction('convertToInteractive',\n",
              "                                                     [key], {});\n",
              "          if (!dataTable) return;\n",
              "\n",
              "          const docLinkHtml = 'Like what you see? Visit the ' +\n",
              "            '<a target=\"_blank\" href=https://colab.research.google.com/notebooks/data_table.ipynb>data table notebook</a>'\n",
              "            + ' to learn more about interactive tables.';\n",
              "          element.innerHTML = '';\n",
              "          dataTable['output_type'] = 'display_data';\n",
              "          await google.colab.output.renderOutput(dataTable, element);\n",
              "          const docLink = document.createElement('div');\n",
              "          docLink.innerHTML = docLinkHtml;\n",
              "          element.appendChild(docLink);\n",
              "        }\n",
              "      </script>\n",
              "    </div>\n",
              "  </div>\n",
              "  "
            ]
          },
          "metadata": {},
          "execution_count": 42
        }
      ]
    },
    {
      "cell_type": "markdown",
      "source": [
        "##### Differential Grouth to Mature, stage_name differences (string)\n",
        "Actually discarded but interesting"
      ],
      "metadata": {
        "id": "o89Yz8laK1ay"
      }
    },
    {
      "cell_type": "code",
      "source": [
        "# Create new column with stage change, but not good to fullfill almost with groups\n",
        "#candidates_usefull_data['new_stage'] = bool\n",
        "#candidates_usefull_data['new_stage'] = candidates_usefull_data['new_stage'].ne(candidates_usefull_data['new_stage'].shift().bfill()).astype(bool)"
      ],
      "metadata": {
        "id": "nbnbq6jkKjkQ"
      },
      "execution_count": 43,
      "outputs": []
    },
    {
      "cell_type": "markdown",
      "source": [
        "##### Try to select evaluation intervals to calculate pseudo-derivative.\n",
        "Actually discarded"
      ],
      "metadata": {
        "id": "eoe1AcqJRmb2"
      }
    },
    {
      "cell_type": "code",
      "source": [
        "# Only add one time or clear values. Discarded for now, to implement on cluster_id list dataframe (prodList)\n",
        "#candidates['EvalDiff_ST']= 0"
      ],
      "metadata": {
        "id": "Ktp7OyG5RrqT"
      },
      "execution_count": 44,
      "outputs": []
    },
    {
      "cell_type": "code",
      "source": [
        "# Only add one time or clear values. Discarded for now, to implement on cluster_id list dataframe (prodList)\n",
        "#candidates['EvalDiff_LT']= 0"
      ],
      "metadata": {
        "id": "DQOSUNjJS6do"
      },
      "execution_count": 45,
      "outputs": []
    },
    {
      "cell_type": "markdown",
      "source": [
        "##### Create product list (prodList) from candidates"
      ],
      "metadata": {
        "id": "5x3ZBob5zcDQ"
      }
    },
    {
      "cell_type": "code",
      "source": [
        "# Value test for index on group: would be same on candidates\n",
        "group.iloc[:,0][147349] #-> Output 188688"
      ],
      "metadata": {
        "id": "XcBH4NlQ7HFC",
        "colab": {
          "base_uri": "https://localhost:8080/"
        },
        "outputId": "f8f04edc-ddd8-478f-c442-49ea6ce7f463"
      },
      "execution_count": 46,
      "outputs": [
        {
          "output_type": "execute_result",
          "data": {
            "text/plain": [
              "188677"
            ]
          },
          "metadata": {},
          "execution_count": 46
        }
      ]
    },
    {
      "cell_type": "code",
      "source": [
        "# Value test for index on candidates: would be same on group\n",
        "candidates.iloc[:,0][147349] #-> Output 188688"
      ],
      "metadata": {
        "id": "uIBNNTpW5u-C",
        "colab": {
          "base_uri": "https://localhost:8080/"
        },
        "outputId": "c690a942-ae47-4c9c-9012-6cf8481abd51"
      },
      "execution_count": 47,
      "outputs": [
        {
          "output_type": "execute_result",
          "data": {
            "text/plain": [
              "188677"
            ]
          },
          "metadata": {},
          "execution_count": 47
        }
      ]
    },
    {
      "cell_type": "code",
      "source": [
        "candidates.iloc[87,2].date()"
      ],
      "metadata": {
        "colab": {
          "base_uri": "https://localhost:8080/"
        },
        "id": "Htiq8cWwPVc9",
        "outputId": "059695af-095d-46e7-89a6-e5683bbbfa83"
      },
      "execution_count": 48,
      "outputs": [
        {
          "output_type": "execute_result",
          "data": {
            "text/plain": [
              "datetime.date(2019, 4, 1)"
            ]
          },
          "metadata": {},
          "execution_count": 48
        }
      ]
    },
    {
      "cell_type": "code",
      "source": [
        "prodList.info()"
      ],
      "metadata": {
        "id": "FOIu1LlI7ZUz",
        "colab": {
          "base_uri": "https://localhost:8080/"
        },
        "outputId": "9ab402bb-9b60-430a-dcbd-f297f8a271da"
      },
      "execution_count": 49,
      "outputs": [
        {
          "output_type": "stream",
          "name": "stdout",
          "text": [
            "<class 'pandas.core.frame.DataFrame'>\n",
            "RangeIndex: 1464 entries, 0 to 1463\n",
            "Data columns (total 12 columns):\n",
            " #   Column           Non-Null Count  Dtype \n",
            "---  ------           --------------  ----- \n",
            " 0   cluster_id       1464 non-null   object\n",
            " 1   transition_date  1464 non-null   object\n",
            " 2   is_transition    1464 non-null   object\n",
            " 3   date             1464 non-null   object\n",
            " 4   forecast         1464 non-null   object\n",
            " 5   idxGroup         1464 non-null   object\n",
            " 6   idxLtrans        1464 non-null   object\n",
            " 7   idxPtrans        1464 non-null   object\n",
            " 8   idxST_l          1464 non-null   object\n",
            " 9   idxLT_l          1464 non-null   object\n",
            " 10  diffST_l         1464 non-null   object\n",
            " 11  diffLT_l         1464 non-null   object\n",
            "dtypes: object(12)\n",
            "memory usage: 137.4+ KB\n"
          ]
        }
      ]
    },
    {
      "cell_type": "code",
      "source": [
        "prodList.describe()"
      ],
      "metadata": {
        "colab": {
          "base_uri": "https://localhost:8080/",
          "height": 0
        },
        "id": "bkMJeQm07ZU2",
        "outputId": "f19252b3-d995-42c5-d0ec-ee9dde58a119"
      },
      "execution_count": 50,
      "outputs": [
        {
          "output_type": "execute_result",
          "data": {
            "text/plain": [
              "       cluster_id transition_date is_transition                     date  \\\n",
              "count        1464            1464          1464                     1464   \n",
              "unique       1464               2             2                        1   \n",
              "top          ID_3      2019-09-01           YES  <class 'datetime.date'>   \n",
              "freq            1             834           834                     1464   \n",
              "\n",
              "             forecast                                           idxGroup  \\\n",
              "count            1464                                               1464   \n",
              "unique              1                                               1464   \n",
              "top     <class 'int'>  [0, 1, 2, 3, 4, 5, 6, 7, 8, 9, 10, 11, 12, 13,...   \n",
              "freq             1464                                                  1   \n",
              "\n",
              "       idxLtrans       idxPtrans         idxST_l         idxLT_l  \\\n",
              "count       1464            1464            1464            1464   \n",
              "unique       631               1             486             468   \n",
              "top           []  <class 'list'>  <class 'list'>  <class 'list'>   \n",
              "freq         834            1464             834             834   \n",
              "\n",
              "              diffST_l        diffLT_l  \n",
              "count             1464            1464  \n",
              "unique               1               1  \n",
              "top     <class 'list'>  <class 'list'>  \n",
              "freq              1464            1464  "
            ],
            "text/html": [
              "\n",
              "  <div id=\"df-54a30896-eb85-4787-b522-ba3ec619ce11\">\n",
              "    <div class=\"colab-df-container\">\n",
              "      <div>\n",
              "<style scoped>\n",
              "    .dataframe tbody tr th:only-of-type {\n",
              "        vertical-align: middle;\n",
              "    }\n",
              "\n",
              "    .dataframe tbody tr th {\n",
              "        vertical-align: top;\n",
              "    }\n",
              "\n",
              "    .dataframe thead th {\n",
              "        text-align: right;\n",
              "    }\n",
              "</style>\n",
              "<table border=\"1\" class=\"dataframe\">\n",
              "  <thead>\n",
              "    <tr style=\"text-align: right;\">\n",
              "      <th></th>\n",
              "      <th>cluster_id</th>\n",
              "      <th>transition_date</th>\n",
              "      <th>is_transition</th>\n",
              "      <th>date</th>\n",
              "      <th>forecast</th>\n",
              "      <th>idxGroup</th>\n",
              "      <th>idxLtrans</th>\n",
              "      <th>idxPtrans</th>\n",
              "      <th>idxST_l</th>\n",
              "      <th>idxLT_l</th>\n",
              "      <th>diffST_l</th>\n",
              "      <th>diffLT_l</th>\n",
              "    </tr>\n",
              "  </thead>\n",
              "  <tbody>\n",
              "    <tr>\n",
              "      <th>count</th>\n",
              "      <td>1464</td>\n",
              "      <td>1464</td>\n",
              "      <td>1464</td>\n",
              "      <td>1464</td>\n",
              "      <td>1464</td>\n",
              "      <td>1464</td>\n",
              "      <td>1464</td>\n",
              "      <td>1464</td>\n",
              "      <td>1464</td>\n",
              "      <td>1464</td>\n",
              "      <td>1464</td>\n",
              "      <td>1464</td>\n",
              "    </tr>\n",
              "    <tr>\n",
              "      <th>unique</th>\n",
              "      <td>1464</td>\n",
              "      <td>2</td>\n",
              "      <td>2</td>\n",
              "      <td>1</td>\n",
              "      <td>1</td>\n",
              "      <td>1464</td>\n",
              "      <td>631</td>\n",
              "      <td>1</td>\n",
              "      <td>486</td>\n",
              "      <td>468</td>\n",
              "      <td>1</td>\n",
              "      <td>1</td>\n",
              "    </tr>\n",
              "    <tr>\n",
              "      <th>top</th>\n",
              "      <td>ID_3</td>\n",
              "      <td>2019-09-01</td>\n",
              "      <td>YES</td>\n",
              "      <td>&lt;class 'datetime.date'&gt;</td>\n",
              "      <td>&lt;class 'int'&gt;</td>\n",
              "      <td>[0, 1, 2, 3, 4, 5, 6, 7, 8, 9, 10, 11, 12, 13,...</td>\n",
              "      <td>[]</td>\n",
              "      <td>&lt;class 'list'&gt;</td>\n",
              "      <td>&lt;class 'list'&gt;</td>\n",
              "      <td>&lt;class 'list'&gt;</td>\n",
              "      <td>&lt;class 'list'&gt;</td>\n",
              "      <td>&lt;class 'list'&gt;</td>\n",
              "    </tr>\n",
              "    <tr>\n",
              "      <th>freq</th>\n",
              "      <td>1</td>\n",
              "      <td>834</td>\n",
              "      <td>834</td>\n",
              "      <td>1464</td>\n",
              "      <td>1464</td>\n",
              "      <td>1</td>\n",
              "      <td>834</td>\n",
              "      <td>1464</td>\n",
              "      <td>834</td>\n",
              "      <td>834</td>\n",
              "      <td>1464</td>\n",
              "      <td>1464</td>\n",
              "    </tr>\n",
              "  </tbody>\n",
              "</table>\n",
              "</div>\n",
              "      <button class=\"colab-df-convert\" onclick=\"convertToInteractive('df-54a30896-eb85-4787-b522-ba3ec619ce11')\"\n",
              "              title=\"Convert this dataframe to an interactive table.\"\n",
              "              style=\"display:none;\">\n",
              "        \n",
              "  <svg xmlns=\"http://www.w3.org/2000/svg\" height=\"24px\"viewBox=\"0 0 24 24\"\n",
              "       width=\"24px\">\n",
              "    <path d=\"M0 0h24v24H0V0z\" fill=\"none\"/>\n",
              "    <path d=\"M18.56 5.44l.94 2.06.94-2.06 2.06-.94-2.06-.94-.94-2.06-.94 2.06-2.06.94zm-11 1L8.5 8.5l.94-2.06 2.06-.94-2.06-.94L8.5 2.5l-.94 2.06-2.06.94zm10 10l.94 2.06.94-2.06 2.06-.94-2.06-.94-.94-2.06-.94 2.06-2.06.94z\"/><path d=\"M17.41 7.96l-1.37-1.37c-.4-.4-.92-.59-1.43-.59-.52 0-1.04.2-1.43.59L10.3 9.45l-7.72 7.72c-.78.78-.78 2.05 0 2.83L4 21.41c.39.39.9.59 1.41.59.51 0 1.02-.2 1.41-.59l7.78-7.78 2.81-2.81c.8-.78.8-2.07 0-2.86zM5.41 20L4 18.59l7.72-7.72 1.47 1.35L5.41 20z\"/>\n",
              "  </svg>\n",
              "      </button>\n",
              "      \n",
              "  <style>\n",
              "    .colab-df-container {\n",
              "      display:flex;\n",
              "      flex-wrap:wrap;\n",
              "      gap: 12px;\n",
              "    }\n",
              "\n",
              "    .colab-df-convert {\n",
              "      background-color: #E8F0FE;\n",
              "      border: none;\n",
              "      border-radius: 50%;\n",
              "      cursor: pointer;\n",
              "      display: none;\n",
              "      fill: #1967D2;\n",
              "      height: 32px;\n",
              "      padding: 0 0 0 0;\n",
              "      width: 32px;\n",
              "    }\n",
              "\n",
              "    .colab-df-convert:hover {\n",
              "      background-color: #E2EBFA;\n",
              "      box-shadow: 0px 1px 2px rgba(60, 64, 67, 0.3), 0px 1px 3px 1px rgba(60, 64, 67, 0.15);\n",
              "      fill: #174EA6;\n",
              "    }\n",
              "\n",
              "    [theme=dark] .colab-df-convert {\n",
              "      background-color: #3B4455;\n",
              "      fill: #D2E3FC;\n",
              "    }\n",
              "\n",
              "    [theme=dark] .colab-df-convert:hover {\n",
              "      background-color: #434B5C;\n",
              "      box-shadow: 0px 1px 3px 1px rgba(0, 0, 0, 0.15);\n",
              "      filter: drop-shadow(0px 1px 2px rgba(0, 0, 0, 0.3));\n",
              "      fill: #FFFFFF;\n",
              "    }\n",
              "  </style>\n",
              "\n",
              "      <script>\n",
              "        const buttonEl =\n",
              "          document.querySelector('#df-54a30896-eb85-4787-b522-ba3ec619ce11 button.colab-df-convert');\n",
              "        buttonEl.style.display =\n",
              "          google.colab.kernel.accessAllowed ? 'block' : 'none';\n",
              "\n",
              "        async function convertToInteractive(key) {\n",
              "          const element = document.querySelector('#df-54a30896-eb85-4787-b522-ba3ec619ce11');\n",
              "          const dataTable =\n",
              "            await google.colab.kernel.invokeFunction('convertToInteractive',\n",
              "                                                     [key], {});\n",
              "          if (!dataTable) return;\n",
              "\n",
              "          const docLinkHtml = 'Like what you see? Visit the ' +\n",
              "            '<a target=\"_blank\" href=https://colab.research.google.com/notebooks/data_table.ipynb>data table notebook</a>'\n",
              "            + ' to learn more about interactive tables.';\n",
              "          element.innerHTML = '';\n",
              "          dataTable['output_type'] = 'display_data';\n",
              "          await google.colab.output.renderOutput(dataTable, element);\n",
              "          const docLink = document.createElement('div');\n",
              "          docLink.innerHTML = docLinkHtml;\n",
              "          element.appendChild(docLink);\n",
              "        }\n",
              "      </script>\n",
              "    </div>\n",
              "  </div>\n",
              "  "
            ]
          },
          "metadata": {},
          "execution_count": 50
        }
      ]
    },
    {
      "cell_type": "code",
      "source": [
        "prodList.loc[prodList['cluster_id']== 'ID_3221']"
      ],
      "metadata": {
        "colab": {
          "base_uri": "https://localhost:8080/",
          "height": 0
        },
        "outputId": "20d76ec2-5769-43da-cde2-c09d310d5c69",
        "id": "S8rMXnQD7ZU4"
      },
      "execution_count": 51,
      "outputs": [
        {
          "output_type": "execute_result",
          "data": {
            "text/plain": [
              "     cluster_id transition_date is_transition                     date  \\\n",
              "1463    ID_3221      2019-04-01            NO  <class 'datetime.date'>   \n",
              "\n",
              "           forecast                                           idxGroup  \\\n",
              "1463  <class 'int'>  [147310, 147311, 147312, 147313, 147314, 14731...   \n",
              "\n",
              "     idxLtrans       idxPtrans  \\\n",
              "1463  [147349]  <class 'list'>   \n",
              "\n",
              "                                                idxST_l  \\\n",
              "1463  [147335, 147336, 147337, 147338, 147339, 14734...   \n",
              "\n",
              "                                                idxLT_l        diffST_l  \\\n",
              "1463  [147324, 147325, 147326, 147327, 147328, 14732...  <class 'list'>   \n",
              "\n",
              "            diffLT_l  \n",
              "1463  <class 'list'>  "
            ],
            "text/html": [
              "\n",
              "  <div id=\"df-ea786ca1-0a5a-4533-84de-09c286b746ba\">\n",
              "    <div class=\"colab-df-container\">\n",
              "      <div>\n",
              "<style scoped>\n",
              "    .dataframe tbody tr th:only-of-type {\n",
              "        vertical-align: middle;\n",
              "    }\n",
              "\n",
              "    .dataframe tbody tr th {\n",
              "        vertical-align: top;\n",
              "    }\n",
              "\n",
              "    .dataframe thead th {\n",
              "        text-align: right;\n",
              "    }\n",
              "</style>\n",
              "<table border=\"1\" class=\"dataframe\">\n",
              "  <thead>\n",
              "    <tr style=\"text-align: right;\">\n",
              "      <th></th>\n",
              "      <th>cluster_id</th>\n",
              "      <th>transition_date</th>\n",
              "      <th>is_transition</th>\n",
              "      <th>date</th>\n",
              "      <th>forecast</th>\n",
              "      <th>idxGroup</th>\n",
              "      <th>idxLtrans</th>\n",
              "      <th>idxPtrans</th>\n",
              "      <th>idxST_l</th>\n",
              "      <th>idxLT_l</th>\n",
              "      <th>diffST_l</th>\n",
              "      <th>diffLT_l</th>\n",
              "    </tr>\n",
              "  </thead>\n",
              "  <tbody>\n",
              "    <tr>\n",
              "      <th>1463</th>\n",
              "      <td>ID_3221</td>\n",
              "      <td>2019-04-01</td>\n",
              "      <td>NO</td>\n",
              "      <td>&lt;class 'datetime.date'&gt;</td>\n",
              "      <td>&lt;class 'int'&gt;</td>\n",
              "      <td>[147310, 147311, 147312, 147313, 147314, 14731...</td>\n",
              "      <td>[147349]</td>\n",
              "      <td>&lt;class 'list'&gt;</td>\n",
              "      <td>[147335, 147336, 147337, 147338, 147339, 14734...</td>\n",
              "      <td>[147324, 147325, 147326, 147327, 147328, 14732...</td>\n",
              "      <td>&lt;class 'list'&gt;</td>\n",
              "      <td>&lt;class 'list'&gt;</td>\n",
              "    </tr>\n",
              "  </tbody>\n",
              "</table>\n",
              "</div>\n",
              "      <button class=\"colab-df-convert\" onclick=\"convertToInteractive('df-ea786ca1-0a5a-4533-84de-09c286b746ba')\"\n",
              "              title=\"Convert this dataframe to an interactive table.\"\n",
              "              style=\"display:none;\">\n",
              "        \n",
              "  <svg xmlns=\"http://www.w3.org/2000/svg\" height=\"24px\"viewBox=\"0 0 24 24\"\n",
              "       width=\"24px\">\n",
              "    <path d=\"M0 0h24v24H0V0z\" fill=\"none\"/>\n",
              "    <path d=\"M18.56 5.44l.94 2.06.94-2.06 2.06-.94-2.06-.94-.94-2.06-.94 2.06-2.06.94zm-11 1L8.5 8.5l.94-2.06 2.06-.94-2.06-.94L8.5 2.5l-.94 2.06-2.06.94zm10 10l.94 2.06.94-2.06 2.06-.94-2.06-.94-.94-2.06-.94 2.06-2.06.94z\"/><path d=\"M17.41 7.96l-1.37-1.37c-.4-.4-.92-.59-1.43-.59-.52 0-1.04.2-1.43.59L10.3 9.45l-7.72 7.72c-.78.78-.78 2.05 0 2.83L4 21.41c.39.39.9.59 1.41.59.51 0 1.02-.2 1.41-.59l7.78-7.78 2.81-2.81c.8-.78.8-2.07 0-2.86zM5.41 20L4 18.59l7.72-7.72 1.47 1.35L5.41 20z\"/>\n",
              "  </svg>\n",
              "      </button>\n",
              "      \n",
              "  <style>\n",
              "    .colab-df-container {\n",
              "      display:flex;\n",
              "      flex-wrap:wrap;\n",
              "      gap: 12px;\n",
              "    }\n",
              "\n",
              "    .colab-df-convert {\n",
              "      background-color: #E8F0FE;\n",
              "      border: none;\n",
              "      border-radius: 50%;\n",
              "      cursor: pointer;\n",
              "      display: none;\n",
              "      fill: #1967D2;\n",
              "      height: 32px;\n",
              "      padding: 0 0 0 0;\n",
              "      width: 32px;\n",
              "    }\n",
              "\n",
              "    .colab-df-convert:hover {\n",
              "      background-color: #E2EBFA;\n",
              "      box-shadow: 0px 1px 2px rgba(60, 64, 67, 0.3), 0px 1px 3px 1px rgba(60, 64, 67, 0.15);\n",
              "      fill: #174EA6;\n",
              "    }\n",
              "\n",
              "    [theme=dark] .colab-df-convert {\n",
              "      background-color: #3B4455;\n",
              "      fill: #D2E3FC;\n",
              "    }\n",
              "\n",
              "    [theme=dark] .colab-df-convert:hover {\n",
              "      background-color: #434B5C;\n",
              "      box-shadow: 0px 1px 3px 1px rgba(0, 0, 0, 0.15);\n",
              "      filter: drop-shadow(0px 1px 2px rgba(0, 0, 0, 0.3));\n",
              "      fill: #FFFFFF;\n",
              "    }\n",
              "  </style>\n",
              "\n",
              "      <script>\n",
              "        const buttonEl =\n",
              "          document.querySelector('#df-ea786ca1-0a5a-4533-84de-09c286b746ba button.colab-df-convert');\n",
              "        buttonEl.style.display =\n",
              "          google.colab.kernel.accessAllowed ? 'block' : 'none';\n",
              "\n",
              "        async function convertToInteractive(key) {\n",
              "          const element = document.querySelector('#df-ea786ca1-0a5a-4533-84de-09c286b746ba');\n",
              "          const dataTable =\n",
              "            await google.colab.kernel.invokeFunction('convertToInteractive',\n",
              "                                                     [key], {});\n",
              "          if (!dataTable) return;\n",
              "\n",
              "          const docLinkHtml = 'Like what you see? Visit the ' +\n",
              "            '<a target=\"_blank\" href=https://colab.research.google.com/notebooks/data_table.ipynb>data table notebook</a>'\n",
              "            + ' to learn more about interactive tables.';\n",
              "          element.innerHTML = '';\n",
              "          dataTable['output_type'] = 'display_data';\n",
              "          await google.colab.output.renderOutput(dataTable, element);\n",
              "          const docLink = document.createElement('div');\n",
              "          docLink.innerHTML = docLinkHtml;\n",
              "          element.appendChild(docLink);\n",
              "        }\n",
              "      </script>\n",
              "    </div>\n",
              "  </div>\n",
              "  "
            ]
          },
          "metadata": {},
          "execution_count": 51
        }
      ]
    },
    {
      "cell_type": "code",
      "source": [
        "prodList.tail()"
      ],
      "metadata": {
        "colab": {
          "base_uri": "https://localhost:8080/",
          "height": 0
        },
        "id": "dVgUxPuVHPGG",
        "outputId": "38f40dbc-cd75-471e-9e51-0c0743a7e285"
      },
      "execution_count": 52,
      "outputs": [
        {
          "output_type": "execute_result",
          "data": {
            "text/plain": [
              "     cluster_id transition_date is_transition                     date  \\\n",
              "1459    ID_3212      2019-09-01           YES  <class 'datetime.date'>   \n",
              "1460    ID_3214      2019-09-01           YES  <class 'datetime.date'>   \n",
              "1461    ID_3215      2019-09-01           YES  <class 'datetime.date'>   \n",
              "1462    ID_3218      2019-09-01           YES  <class 'datetime.date'>   \n",
              "1463    ID_3221      2019-04-01            NO  <class 'datetime.date'>   \n",
              "\n",
              "           forecast                                           idxGroup  \\\n",
              "1459  <class 'int'>  [147032, 147033, 147034, 147035, 147036, 14703...   \n",
              "1460  <class 'int'>  [147096, 147097, 147098, 147099, 147100, 14710...   \n",
              "1461  <class 'int'>  [147157, 147158, 147159, 147160, 147161, 14716...   \n",
              "1462  <class 'int'>  [147220, 147221, 147222, 147223, 147224, 14722...   \n",
              "1463  <class 'int'>  [147310, 147311, 147312, 147313, 147314, 14731...   \n",
              "\n",
              "     idxLtrans       idxPtrans  \\\n",
              "1459        []  <class 'list'>   \n",
              "1460        []  <class 'list'>   \n",
              "1461        []  <class 'list'>   \n",
              "1462        []  <class 'list'>   \n",
              "1463  [147349]  <class 'list'>   \n",
              "\n",
              "                                                idxST_l  \\\n",
              "1459                                     <class 'list'>   \n",
              "1460                                     <class 'list'>   \n",
              "1461                                     <class 'list'>   \n",
              "1462                                     <class 'list'>   \n",
              "1463  [147335, 147336, 147337, 147338, 147339, 14734...   \n",
              "\n",
              "                                                idxLT_l        diffST_l  \\\n",
              "1459                                     <class 'list'>  <class 'list'>   \n",
              "1460                                     <class 'list'>  <class 'list'>   \n",
              "1461                                     <class 'list'>  <class 'list'>   \n",
              "1462                                     <class 'list'>  <class 'list'>   \n",
              "1463  [147324, 147325, 147326, 147327, 147328, 14732...  <class 'list'>   \n",
              "\n",
              "            diffLT_l  \n",
              "1459  <class 'list'>  \n",
              "1460  <class 'list'>  \n",
              "1461  <class 'list'>  \n",
              "1462  <class 'list'>  \n",
              "1463  <class 'list'>  "
            ],
            "text/html": [
              "\n",
              "  <div id=\"df-c0e5c174-2d75-4e2c-8998-080306a15b55\">\n",
              "    <div class=\"colab-df-container\">\n",
              "      <div>\n",
              "<style scoped>\n",
              "    .dataframe tbody tr th:only-of-type {\n",
              "        vertical-align: middle;\n",
              "    }\n",
              "\n",
              "    .dataframe tbody tr th {\n",
              "        vertical-align: top;\n",
              "    }\n",
              "\n",
              "    .dataframe thead th {\n",
              "        text-align: right;\n",
              "    }\n",
              "</style>\n",
              "<table border=\"1\" class=\"dataframe\">\n",
              "  <thead>\n",
              "    <tr style=\"text-align: right;\">\n",
              "      <th></th>\n",
              "      <th>cluster_id</th>\n",
              "      <th>transition_date</th>\n",
              "      <th>is_transition</th>\n",
              "      <th>date</th>\n",
              "      <th>forecast</th>\n",
              "      <th>idxGroup</th>\n",
              "      <th>idxLtrans</th>\n",
              "      <th>idxPtrans</th>\n",
              "      <th>idxST_l</th>\n",
              "      <th>idxLT_l</th>\n",
              "      <th>diffST_l</th>\n",
              "      <th>diffLT_l</th>\n",
              "    </tr>\n",
              "  </thead>\n",
              "  <tbody>\n",
              "    <tr>\n",
              "      <th>1459</th>\n",
              "      <td>ID_3212</td>\n",
              "      <td>2019-09-01</td>\n",
              "      <td>YES</td>\n",
              "      <td>&lt;class 'datetime.date'&gt;</td>\n",
              "      <td>&lt;class 'int'&gt;</td>\n",
              "      <td>[147032, 147033, 147034, 147035, 147036, 14703...</td>\n",
              "      <td>[]</td>\n",
              "      <td>&lt;class 'list'&gt;</td>\n",
              "      <td>&lt;class 'list'&gt;</td>\n",
              "      <td>&lt;class 'list'&gt;</td>\n",
              "      <td>&lt;class 'list'&gt;</td>\n",
              "      <td>&lt;class 'list'&gt;</td>\n",
              "    </tr>\n",
              "    <tr>\n",
              "      <th>1460</th>\n",
              "      <td>ID_3214</td>\n",
              "      <td>2019-09-01</td>\n",
              "      <td>YES</td>\n",
              "      <td>&lt;class 'datetime.date'&gt;</td>\n",
              "      <td>&lt;class 'int'&gt;</td>\n",
              "      <td>[147096, 147097, 147098, 147099, 147100, 14710...</td>\n",
              "      <td>[]</td>\n",
              "      <td>&lt;class 'list'&gt;</td>\n",
              "      <td>&lt;class 'list'&gt;</td>\n",
              "      <td>&lt;class 'list'&gt;</td>\n",
              "      <td>&lt;class 'list'&gt;</td>\n",
              "      <td>&lt;class 'list'&gt;</td>\n",
              "    </tr>\n",
              "    <tr>\n",
              "      <th>1461</th>\n",
              "      <td>ID_3215</td>\n",
              "      <td>2019-09-01</td>\n",
              "      <td>YES</td>\n",
              "      <td>&lt;class 'datetime.date'&gt;</td>\n",
              "      <td>&lt;class 'int'&gt;</td>\n",
              "      <td>[147157, 147158, 147159, 147160, 147161, 14716...</td>\n",
              "      <td>[]</td>\n",
              "      <td>&lt;class 'list'&gt;</td>\n",
              "      <td>&lt;class 'list'&gt;</td>\n",
              "      <td>&lt;class 'list'&gt;</td>\n",
              "      <td>&lt;class 'list'&gt;</td>\n",
              "      <td>&lt;class 'list'&gt;</td>\n",
              "    </tr>\n",
              "    <tr>\n",
              "      <th>1462</th>\n",
              "      <td>ID_3218</td>\n",
              "      <td>2019-09-01</td>\n",
              "      <td>YES</td>\n",
              "      <td>&lt;class 'datetime.date'&gt;</td>\n",
              "      <td>&lt;class 'int'&gt;</td>\n",
              "      <td>[147220, 147221, 147222, 147223, 147224, 14722...</td>\n",
              "      <td>[]</td>\n",
              "      <td>&lt;class 'list'&gt;</td>\n",
              "      <td>&lt;class 'list'&gt;</td>\n",
              "      <td>&lt;class 'list'&gt;</td>\n",
              "      <td>&lt;class 'list'&gt;</td>\n",
              "      <td>&lt;class 'list'&gt;</td>\n",
              "    </tr>\n",
              "    <tr>\n",
              "      <th>1463</th>\n",
              "      <td>ID_3221</td>\n",
              "      <td>2019-04-01</td>\n",
              "      <td>NO</td>\n",
              "      <td>&lt;class 'datetime.date'&gt;</td>\n",
              "      <td>&lt;class 'int'&gt;</td>\n",
              "      <td>[147310, 147311, 147312, 147313, 147314, 14731...</td>\n",
              "      <td>[147349]</td>\n",
              "      <td>&lt;class 'list'&gt;</td>\n",
              "      <td>[147335, 147336, 147337, 147338, 147339, 14734...</td>\n",
              "      <td>[147324, 147325, 147326, 147327, 147328, 14732...</td>\n",
              "      <td>&lt;class 'list'&gt;</td>\n",
              "      <td>&lt;class 'list'&gt;</td>\n",
              "    </tr>\n",
              "  </tbody>\n",
              "</table>\n",
              "</div>\n",
              "      <button class=\"colab-df-convert\" onclick=\"convertToInteractive('df-c0e5c174-2d75-4e2c-8998-080306a15b55')\"\n",
              "              title=\"Convert this dataframe to an interactive table.\"\n",
              "              style=\"display:none;\">\n",
              "        \n",
              "  <svg xmlns=\"http://www.w3.org/2000/svg\" height=\"24px\"viewBox=\"0 0 24 24\"\n",
              "       width=\"24px\">\n",
              "    <path d=\"M0 0h24v24H0V0z\" fill=\"none\"/>\n",
              "    <path d=\"M18.56 5.44l.94 2.06.94-2.06 2.06-.94-2.06-.94-.94-2.06-.94 2.06-2.06.94zm-11 1L8.5 8.5l.94-2.06 2.06-.94-2.06-.94L8.5 2.5l-.94 2.06-2.06.94zm10 10l.94 2.06.94-2.06 2.06-.94-2.06-.94-.94-2.06-.94 2.06-2.06.94z\"/><path d=\"M17.41 7.96l-1.37-1.37c-.4-.4-.92-.59-1.43-.59-.52 0-1.04.2-1.43.59L10.3 9.45l-7.72 7.72c-.78.78-.78 2.05 0 2.83L4 21.41c.39.39.9.59 1.41.59.51 0 1.02-.2 1.41-.59l7.78-7.78 2.81-2.81c.8-.78.8-2.07 0-2.86zM5.41 20L4 18.59l7.72-7.72 1.47 1.35L5.41 20z\"/>\n",
              "  </svg>\n",
              "      </button>\n",
              "      \n",
              "  <style>\n",
              "    .colab-df-container {\n",
              "      display:flex;\n",
              "      flex-wrap:wrap;\n",
              "      gap: 12px;\n",
              "    }\n",
              "\n",
              "    .colab-df-convert {\n",
              "      background-color: #E8F0FE;\n",
              "      border: none;\n",
              "      border-radius: 50%;\n",
              "      cursor: pointer;\n",
              "      display: none;\n",
              "      fill: #1967D2;\n",
              "      height: 32px;\n",
              "      padding: 0 0 0 0;\n",
              "      width: 32px;\n",
              "    }\n",
              "\n",
              "    .colab-df-convert:hover {\n",
              "      background-color: #E2EBFA;\n",
              "      box-shadow: 0px 1px 2px rgba(60, 64, 67, 0.3), 0px 1px 3px 1px rgba(60, 64, 67, 0.15);\n",
              "      fill: #174EA6;\n",
              "    }\n",
              "\n",
              "    [theme=dark] .colab-df-convert {\n",
              "      background-color: #3B4455;\n",
              "      fill: #D2E3FC;\n",
              "    }\n",
              "\n",
              "    [theme=dark] .colab-df-convert:hover {\n",
              "      background-color: #434B5C;\n",
              "      box-shadow: 0px 1px 3px 1px rgba(0, 0, 0, 0.15);\n",
              "      filter: drop-shadow(0px 1px 2px rgba(0, 0, 0, 0.3));\n",
              "      fill: #FFFFFF;\n",
              "    }\n",
              "  </style>\n",
              "\n",
              "      <script>\n",
              "        const buttonEl =\n",
              "          document.querySelector('#df-c0e5c174-2d75-4e2c-8998-080306a15b55 button.colab-df-convert');\n",
              "        buttonEl.style.display =\n",
              "          google.colab.kernel.accessAllowed ? 'block' : 'none';\n",
              "\n",
              "        async function convertToInteractive(key) {\n",
              "          const element = document.querySelector('#df-c0e5c174-2d75-4e2c-8998-080306a15b55');\n",
              "          const dataTable =\n",
              "            await google.colab.kernel.invokeFunction('convertToInteractive',\n",
              "                                                     [key], {});\n",
              "          if (!dataTable) return;\n",
              "\n",
              "          const docLinkHtml = 'Like what you see? Visit the ' +\n",
              "            '<a target=\"_blank\" href=https://colab.research.google.com/notebooks/data_table.ipynb>data table notebook</a>'\n",
              "            + ' to learn more about interactive tables.';\n",
              "          element.innerHTML = '';\n",
              "          dataTable['output_type'] = 'display_data';\n",
              "          await google.colab.output.renderOutput(dataTable, element);\n",
              "          const docLink = document.createElement('div');\n",
              "          docLink.innerHTML = docLinkHtml;\n",
              "          element.appendChild(docLink);\n",
              "        }\n",
              "      </script>\n",
              "    </div>\n",
              "  </div>\n",
              "  "
            ]
          },
          "metadata": {},
          "execution_count": 52
        }
      ]
    },
    {
      "cell_type": "code",
      "source": [
        "group"
      ],
      "metadata": {
        "id": "_nczdiFbp_t2",
        "colab": {
          "base_uri": "https://localhost:8080/",
          "height": 0
        },
        "outputId": "61ea3ccc-1b2f-419e-f17c-d71b779f42f5"
      },
      "execution_count": 53,
      "outputs": [
        {
          "output_type": "execute_result",
          "data": {
            "text/plain": [
              "        Unnamed: 0 cluster_id       date   stage_name        volume\n",
              "147310      188638    ID_3221 2015-02-01       Growth  1.992650e+06\n",
              "147311      188639    ID_3221 2015-03-01       Growth  2.241732e+06\n",
              "147312      188640    ID_3221 2015-04-01       Growth  1.743569e+06\n",
              "147313      188641    ID_3221 2015-05-01       Growth  9.963252e+05\n",
              "147314      188642    ID_3221 2015-06-01       Growth  9.714171e+06\n",
              "147315      188643    ID_3221 2015-07-01       Growth  1.120866e+07\n",
              "147316      188644    ID_3221 2015-08-01       Growth  1.444672e+07\n",
              "147317      188645    ID_3221 2015-09-01       Growth  7.472439e+06\n",
              "147318      188646    ID_3221 2015-10-01       Growth  1.843202e+07\n",
              "147319      188647    ID_3221 2015-11-01       Growth  7.970602e+06\n",
              "147320      188648    ID_3221 2015-12-01       Growth  2.440997e+07\n",
              "147321      188649    ID_3221 2016-01-01       Growth  8.219683e+06\n",
              "147322      188650    ID_3221 2016-02-01       Growth  1.494488e+07\n",
              "147323      188651    ID_3221 2016-03-01       Growth  1.594120e+07\n",
              "147324      188652    ID_3221 2016-04-01       Growth  2.241732e+07\n",
              "147325      188653    ID_3221 2016-05-01       Growth  1.743569e+07\n",
              "147326      188654    ID_3221 2016-06-01       Growth  1.594120e+07\n",
              "147327      188655    ID_3221 2016-07-01       Growth  2.017559e+07\n",
              "147328      188656    ID_3221 2016-08-01       Growth  2.017559e+07\n",
              "147329      188657    ID_3221 2016-09-01       Growth  2.266640e+07\n",
              "147330      188658    ID_3221 2016-10-01       Growth  1.668845e+07\n",
              "147331      188659    ID_3221 2016-11-01       Growth  1.419763e+07\n",
              "147332      188660    ID_3221 2016-12-01       Growth  2.316456e+07\n",
              "147333      188661    ID_3221 2017-01-01       Growth  2.939159e+07\n",
              "147334      188662    ID_3221 2017-02-01       Growth  6.476114e+06\n",
              "147335      188663    ID_3221 2017-03-01       Growth  2.590446e+07\n",
              "147336      188664    ID_3221 2017-04-01       Growth  2.092283e+07\n",
              "147337      188665    ID_3221 2017-05-01       Growth  1.619029e+07\n",
              "147338      188666    ID_3221 2017-06-01       Growth  1.942834e+07\n",
              "147339      188667    ID_3221 2017-07-01       Growth  1.320131e+07\n",
              "147340      188668    ID_3221 2017-08-01       Growth  1.544304e+07\n",
              "147341      188669    ID_3221 2017-09-01       Growth  1.046142e+07\n",
              "147342      188670    ID_3221 2017-10-01       Growth  1.369947e+07\n",
              "147343      188671    ID_3221 2017-11-01       Growth  2.366272e+07\n",
              "147344      188672    ID_3221 2017-12-01       Growth  3.013884e+07\n",
              "147345      188673    ID_3221 2018-01-01       Growth  2.216824e+07\n",
              "147346      188674    ID_3221 2018-02-01       Growth  1.345039e+07\n",
              "147347      188675    ID_3221 2018-03-01       Growth  3.536955e+07\n",
              "147348      188676    ID_3221 2018-04-01       Growth  1.569212e+07\n",
              "147349      188677    ID_3221 2018-05-01     Maturity  1.818294e+07\n",
              "147350      188678    ID_3221 2018-06-01     Maturity  2.914251e+07\n",
              "147351      188679    ID_3221 2018-07-01     Maturity  3.337690e+07\n",
              "147352      188680    ID_3221 2018-08-01     Maturity  2.515721e+07\n",
              "147353      188681    ID_3221 2018-09-01     Maturity  2.291548e+07\n",
              "147354      188682    ID_3221 2018-10-01     Maturity  1.768477e+07\n",
              "147355      188683    ID_3221 2018-11-01     Maturity  1.868110e+07\n",
              "147356      188684    ID_3221 2018-12-01     Maturity  3.188241e+07\n",
              "147357      188685    ID_3221 2019-01-01     Maturity  1.544304e+07\n",
              "147358      188686    ID_3221 2019-02-01     Maturity  2.142099e+07\n",
              "147359      188687    ID_3221 2019-03-01     Maturity  1.718661e+07\n",
              "147360      188688    ID_3221 2019-04-01  Forecasting -1.000000e+00\n",
              "147361      188689    ID_3221 2019-05-01  Forecasting -1.000000e+00\n",
              "147362      188690    ID_3221 2019-06-01  Forecasting -1.000000e+00\n",
              "147363      188691    ID_3221 2019-07-01  Forecasting -1.000000e+00\n",
              "147364      188692    ID_3221 2019-08-01  Forecasting -1.000000e+00\n",
              "147365      188693    ID_3221 2019-09-01  Forecasting -1.000000e+00\n",
              "147366      188694    ID_3221 2019-10-01  Forecasting -1.000000e+00\n",
              "147367      188695    ID_3221 2019-11-01  Forecasting -1.000000e+00\n",
              "147368      188696    ID_3221 2019-12-01  Forecasting -1.000000e+00\n",
              "147369      188697    ID_3221 2020-01-01  Forecasting -1.000000e+00\n",
              "147370      188698    ID_3221 2020-02-01  Forecasting -1.000000e+00\n",
              "147371      188699    ID_3221 2020-03-01  Forecasting -1.000000e+00\n",
              "147372      188700    ID_3221 2020-04-01  Forecasting -1.000000e+00\n",
              "147373      188701    ID_3221 2020-05-01  Forecasting -1.000000e+00\n",
              "147374      188702    ID_3221 2020-06-01  Forecasting -1.000000e+00\n",
              "147375      188703    ID_3221 2020-07-01  Forecasting -1.000000e+00\n",
              "147376      188704    ID_3221 2020-08-01  Forecasting -1.000000e+00\n",
              "147377      188705    ID_3221 2020-09-01  Forecasting -1.000000e+00\n",
              "147378      188706    ID_3221 2020-10-01  Forecasting -1.000000e+00\n",
              "147379      188707    ID_3221 2020-11-01  Forecasting -1.000000e+00\n",
              "147380      188708    ID_3221 2020-12-01  Forecasting -1.000000e+00\n",
              "147381      188709    ID_3221 2021-01-01  Forecasting -1.000000e+00\n",
              "147382      188710    ID_3221 2021-02-01  Forecasting -1.000000e+00\n",
              "147383      188711    ID_3221 2021-03-01  Forecasting -1.000000e+00\n",
              "147384      188712    ID_3221 2021-04-01  Forecasting -1.000000e+00\n",
              "147385      188713    ID_3221 2021-05-01  Forecasting -1.000000e+00\n",
              "147386      188714    ID_3221 2021-06-01  Forecasting -1.000000e+00\n",
              "147387      188715    ID_3221 2021-07-01  Forecasting -1.000000e+00\n",
              "147388      188716    ID_3221 2021-08-01  Forecasting -1.000000e+00\n",
              "147389      188717    ID_3221 2021-09-01  Forecasting -1.000000e+00\n",
              "147390      188718    ID_3221 2021-10-01  Forecasting -1.000000e+00\n",
              "147391      188719    ID_3221 2021-11-01  Forecasting -1.000000e+00\n",
              "147392      188720    ID_3221 2021-12-01  Forecasting -1.000000e+00\n",
              "147393      188721    ID_3221 2022-01-01  Forecasting -1.000000e+00\n",
              "147394      188722    ID_3221 2022-02-01  Forecasting -1.000000e+00\n",
              "147395      188723    ID_3221 2022-03-01  Forecasting -1.000000e+00\n",
              "147396      188724    ID_3221 2022-04-01  Forecasting -1.000000e+00"
            ],
            "text/html": [
              "\n",
              "  <div id=\"df-3b15e3b4-b02e-4724-b56d-0bb0073ddc75\">\n",
              "    <div class=\"colab-df-container\">\n",
              "      <div>\n",
              "<style scoped>\n",
              "    .dataframe tbody tr th:only-of-type {\n",
              "        vertical-align: middle;\n",
              "    }\n",
              "\n",
              "    .dataframe tbody tr th {\n",
              "        vertical-align: top;\n",
              "    }\n",
              "\n",
              "    .dataframe thead th {\n",
              "        text-align: right;\n",
              "    }\n",
              "</style>\n",
              "<table border=\"1\" class=\"dataframe\">\n",
              "  <thead>\n",
              "    <tr style=\"text-align: right;\">\n",
              "      <th></th>\n",
              "      <th>Unnamed: 0</th>\n",
              "      <th>cluster_id</th>\n",
              "      <th>date</th>\n",
              "      <th>stage_name</th>\n",
              "      <th>volume</th>\n",
              "    </tr>\n",
              "  </thead>\n",
              "  <tbody>\n",
              "    <tr>\n",
              "      <th>147310</th>\n",
              "      <td>188638</td>\n",
              "      <td>ID_3221</td>\n",
              "      <td>2015-02-01</td>\n",
              "      <td>Growth</td>\n",
              "      <td>1.992650e+06</td>\n",
              "    </tr>\n",
              "    <tr>\n",
              "      <th>147311</th>\n",
              "      <td>188639</td>\n",
              "      <td>ID_3221</td>\n",
              "      <td>2015-03-01</td>\n",
              "      <td>Growth</td>\n",
              "      <td>2.241732e+06</td>\n",
              "    </tr>\n",
              "    <tr>\n",
              "      <th>147312</th>\n",
              "      <td>188640</td>\n",
              "      <td>ID_3221</td>\n",
              "      <td>2015-04-01</td>\n",
              "      <td>Growth</td>\n",
              "      <td>1.743569e+06</td>\n",
              "    </tr>\n",
              "    <tr>\n",
              "      <th>147313</th>\n",
              "      <td>188641</td>\n",
              "      <td>ID_3221</td>\n",
              "      <td>2015-05-01</td>\n",
              "      <td>Growth</td>\n",
              "      <td>9.963252e+05</td>\n",
              "    </tr>\n",
              "    <tr>\n",
              "      <th>147314</th>\n",
              "      <td>188642</td>\n",
              "      <td>ID_3221</td>\n",
              "      <td>2015-06-01</td>\n",
              "      <td>Growth</td>\n",
              "      <td>9.714171e+06</td>\n",
              "    </tr>\n",
              "    <tr>\n",
              "      <th>147315</th>\n",
              "      <td>188643</td>\n",
              "      <td>ID_3221</td>\n",
              "      <td>2015-07-01</td>\n",
              "      <td>Growth</td>\n",
              "      <td>1.120866e+07</td>\n",
              "    </tr>\n",
              "    <tr>\n",
              "      <th>147316</th>\n",
              "      <td>188644</td>\n",
              "      <td>ID_3221</td>\n",
              "      <td>2015-08-01</td>\n",
              "      <td>Growth</td>\n",
              "      <td>1.444672e+07</td>\n",
              "    </tr>\n",
              "    <tr>\n",
              "      <th>147317</th>\n",
              "      <td>188645</td>\n",
              "      <td>ID_3221</td>\n",
              "      <td>2015-09-01</td>\n",
              "      <td>Growth</td>\n",
              "      <td>7.472439e+06</td>\n",
              "    </tr>\n",
              "    <tr>\n",
              "      <th>147318</th>\n",
              "      <td>188646</td>\n",
              "      <td>ID_3221</td>\n",
              "      <td>2015-10-01</td>\n",
              "      <td>Growth</td>\n",
              "      <td>1.843202e+07</td>\n",
              "    </tr>\n",
              "    <tr>\n",
              "      <th>147319</th>\n",
              "      <td>188647</td>\n",
              "      <td>ID_3221</td>\n",
              "      <td>2015-11-01</td>\n",
              "      <td>Growth</td>\n",
              "      <td>7.970602e+06</td>\n",
              "    </tr>\n",
              "    <tr>\n",
              "      <th>147320</th>\n",
              "      <td>188648</td>\n",
              "      <td>ID_3221</td>\n",
              "      <td>2015-12-01</td>\n",
              "      <td>Growth</td>\n",
              "      <td>2.440997e+07</td>\n",
              "    </tr>\n",
              "    <tr>\n",
              "      <th>147321</th>\n",
              "      <td>188649</td>\n",
              "      <td>ID_3221</td>\n",
              "      <td>2016-01-01</td>\n",
              "      <td>Growth</td>\n",
              "      <td>8.219683e+06</td>\n",
              "    </tr>\n",
              "    <tr>\n",
              "      <th>147322</th>\n",
              "      <td>188650</td>\n",
              "      <td>ID_3221</td>\n",
              "      <td>2016-02-01</td>\n",
              "      <td>Growth</td>\n",
              "      <td>1.494488e+07</td>\n",
              "    </tr>\n",
              "    <tr>\n",
              "      <th>147323</th>\n",
              "      <td>188651</td>\n",
              "      <td>ID_3221</td>\n",
              "      <td>2016-03-01</td>\n",
              "      <td>Growth</td>\n",
              "      <td>1.594120e+07</td>\n",
              "    </tr>\n",
              "    <tr>\n",
              "      <th>147324</th>\n",
              "      <td>188652</td>\n",
              "      <td>ID_3221</td>\n",
              "      <td>2016-04-01</td>\n",
              "      <td>Growth</td>\n",
              "      <td>2.241732e+07</td>\n",
              "    </tr>\n",
              "    <tr>\n",
              "      <th>147325</th>\n",
              "      <td>188653</td>\n",
              "      <td>ID_3221</td>\n",
              "      <td>2016-05-01</td>\n",
              "      <td>Growth</td>\n",
              "      <td>1.743569e+07</td>\n",
              "    </tr>\n",
              "    <tr>\n",
              "      <th>147326</th>\n",
              "      <td>188654</td>\n",
              "      <td>ID_3221</td>\n",
              "      <td>2016-06-01</td>\n",
              "      <td>Growth</td>\n",
              "      <td>1.594120e+07</td>\n",
              "    </tr>\n",
              "    <tr>\n",
              "      <th>147327</th>\n",
              "      <td>188655</td>\n",
              "      <td>ID_3221</td>\n",
              "      <td>2016-07-01</td>\n",
              "      <td>Growth</td>\n",
              "      <td>2.017559e+07</td>\n",
              "    </tr>\n",
              "    <tr>\n",
              "      <th>147328</th>\n",
              "      <td>188656</td>\n",
              "      <td>ID_3221</td>\n",
              "      <td>2016-08-01</td>\n",
              "      <td>Growth</td>\n",
              "      <td>2.017559e+07</td>\n",
              "    </tr>\n",
              "    <tr>\n",
              "      <th>147329</th>\n",
              "      <td>188657</td>\n",
              "      <td>ID_3221</td>\n",
              "      <td>2016-09-01</td>\n",
              "      <td>Growth</td>\n",
              "      <td>2.266640e+07</td>\n",
              "    </tr>\n",
              "    <tr>\n",
              "      <th>147330</th>\n",
              "      <td>188658</td>\n",
              "      <td>ID_3221</td>\n",
              "      <td>2016-10-01</td>\n",
              "      <td>Growth</td>\n",
              "      <td>1.668845e+07</td>\n",
              "    </tr>\n",
              "    <tr>\n",
              "      <th>147331</th>\n",
              "      <td>188659</td>\n",
              "      <td>ID_3221</td>\n",
              "      <td>2016-11-01</td>\n",
              "      <td>Growth</td>\n",
              "      <td>1.419763e+07</td>\n",
              "    </tr>\n",
              "    <tr>\n",
              "      <th>147332</th>\n",
              "      <td>188660</td>\n",
              "      <td>ID_3221</td>\n",
              "      <td>2016-12-01</td>\n",
              "      <td>Growth</td>\n",
              "      <td>2.316456e+07</td>\n",
              "    </tr>\n",
              "    <tr>\n",
              "      <th>147333</th>\n",
              "      <td>188661</td>\n",
              "      <td>ID_3221</td>\n",
              "      <td>2017-01-01</td>\n",
              "      <td>Growth</td>\n",
              "      <td>2.939159e+07</td>\n",
              "    </tr>\n",
              "    <tr>\n",
              "      <th>147334</th>\n",
              "      <td>188662</td>\n",
              "      <td>ID_3221</td>\n",
              "      <td>2017-02-01</td>\n",
              "      <td>Growth</td>\n",
              "      <td>6.476114e+06</td>\n",
              "    </tr>\n",
              "    <tr>\n",
              "      <th>147335</th>\n",
              "      <td>188663</td>\n",
              "      <td>ID_3221</td>\n",
              "      <td>2017-03-01</td>\n",
              "      <td>Growth</td>\n",
              "      <td>2.590446e+07</td>\n",
              "    </tr>\n",
              "    <tr>\n",
              "      <th>147336</th>\n",
              "      <td>188664</td>\n",
              "      <td>ID_3221</td>\n",
              "      <td>2017-04-01</td>\n",
              "      <td>Growth</td>\n",
              "      <td>2.092283e+07</td>\n",
              "    </tr>\n",
              "    <tr>\n",
              "      <th>147337</th>\n",
              "      <td>188665</td>\n",
              "      <td>ID_3221</td>\n",
              "      <td>2017-05-01</td>\n",
              "      <td>Growth</td>\n",
              "      <td>1.619029e+07</td>\n",
              "    </tr>\n",
              "    <tr>\n",
              "      <th>147338</th>\n",
              "      <td>188666</td>\n",
              "      <td>ID_3221</td>\n",
              "      <td>2017-06-01</td>\n",
              "      <td>Growth</td>\n",
              "      <td>1.942834e+07</td>\n",
              "    </tr>\n",
              "    <tr>\n",
              "      <th>147339</th>\n",
              "      <td>188667</td>\n",
              "      <td>ID_3221</td>\n",
              "      <td>2017-07-01</td>\n",
              "      <td>Growth</td>\n",
              "      <td>1.320131e+07</td>\n",
              "    </tr>\n",
              "    <tr>\n",
              "      <th>147340</th>\n",
              "      <td>188668</td>\n",
              "      <td>ID_3221</td>\n",
              "      <td>2017-08-01</td>\n",
              "      <td>Growth</td>\n",
              "      <td>1.544304e+07</td>\n",
              "    </tr>\n",
              "    <tr>\n",
              "      <th>147341</th>\n",
              "      <td>188669</td>\n",
              "      <td>ID_3221</td>\n",
              "      <td>2017-09-01</td>\n",
              "      <td>Growth</td>\n",
              "      <td>1.046142e+07</td>\n",
              "    </tr>\n",
              "    <tr>\n",
              "      <th>147342</th>\n",
              "      <td>188670</td>\n",
              "      <td>ID_3221</td>\n",
              "      <td>2017-10-01</td>\n",
              "      <td>Growth</td>\n",
              "      <td>1.369947e+07</td>\n",
              "    </tr>\n",
              "    <tr>\n",
              "      <th>147343</th>\n",
              "      <td>188671</td>\n",
              "      <td>ID_3221</td>\n",
              "      <td>2017-11-01</td>\n",
              "      <td>Growth</td>\n",
              "      <td>2.366272e+07</td>\n",
              "    </tr>\n",
              "    <tr>\n",
              "      <th>147344</th>\n",
              "      <td>188672</td>\n",
              "      <td>ID_3221</td>\n",
              "      <td>2017-12-01</td>\n",
              "      <td>Growth</td>\n",
              "      <td>3.013884e+07</td>\n",
              "    </tr>\n",
              "    <tr>\n",
              "      <th>147345</th>\n",
              "      <td>188673</td>\n",
              "      <td>ID_3221</td>\n",
              "      <td>2018-01-01</td>\n",
              "      <td>Growth</td>\n",
              "      <td>2.216824e+07</td>\n",
              "    </tr>\n",
              "    <tr>\n",
              "      <th>147346</th>\n",
              "      <td>188674</td>\n",
              "      <td>ID_3221</td>\n",
              "      <td>2018-02-01</td>\n",
              "      <td>Growth</td>\n",
              "      <td>1.345039e+07</td>\n",
              "    </tr>\n",
              "    <tr>\n",
              "      <th>147347</th>\n",
              "      <td>188675</td>\n",
              "      <td>ID_3221</td>\n",
              "      <td>2018-03-01</td>\n",
              "      <td>Growth</td>\n",
              "      <td>3.536955e+07</td>\n",
              "    </tr>\n",
              "    <tr>\n",
              "      <th>147348</th>\n",
              "      <td>188676</td>\n",
              "      <td>ID_3221</td>\n",
              "      <td>2018-04-01</td>\n",
              "      <td>Growth</td>\n",
              "      <td>1.569212e+07</td>\n",
              "    </tr>\n",
              "    <tr>\n",
              "      <th>147349</th>\n",
              "      <td>188677</td>\n",
              "      <td>ID_3221</td>\n",
              "      <td>2018-05-01</td>\n",
              "      <td>Maturity</td>\n",
              "      <td>1.818294e+07</td>\n",
              "    </tr>\n",
              "    <tr>\n",
              "      <th>147350</th>\n",
              "      <td>188678</td>\n",
              "      <td>ID_3221</td>\n",
              "      <td>2018-06-01</td>\n",
              "      <td>Maturity</td>\n",
              "      <td>2.914251e+07</td>\n",
              "    </tr>\n",
              "    <tr>\n",
              "      <th>147351</th>\n",
              "      <td>188679</td>\n",
              "      <td>ID_3221</td>\n",
              "      <td>2018-07-01</td>\n",
              "      <td>Maturity</td>\n",
              "      <td>3.337690e+07</td>\n",
              "    </tr>\n",
              "    <tr>\n",
              "      <th>147352</th>\n",
              "      <td>188680</td>\n",
              "      <td>ID_3221</td>\n",
              "      <td>2018-08-01</td>\n",
              "      <td>Maturity</td>\n",
              "      <td>2.515721e+07</td>\n",
              "    </tr>\n",
              "    <tr>\n",
              "      <th>147353</th>\n",
              "      <td>188681</td>\n",
              "      <td>ID_3221</td>\n",
              "      <td>2018-09-01</td>\n",
              "      <td>Maturity</td>\n",
              "      <td>2.291548e+07</td>\n",
              "    </tr>\n",
              "    <tr>\n",
              "      <th>147354</th>\n",
              "      <td>188682</td>\n",
              "      <td>ID_3221</td>\n",
              "      <td>2018-10-01</td>\n",
              "      <td>Maturity</td>\n",
              "      <td>1.768477e+07</td>\n",
              "    </tr>\n",
              "    <tr>\n",
              "      <th>147355</th>\n",
              "      <td>188683</td>\n",
              "      <td>ID_3221</td>\n",
              "      <td>2018-11-01</td>\n",
              "      <td>Maturity</td>\n",
              "      <td>1.868110e+07</td>\n",
              "    </tr>\n",
              "    <tr>\n",
              "      <th>147356</th>\n",
              "      <td>188684</td>\n",
              "      <td>ID_3221</td>\n",
              "      <td>2018-12-01</td>\n",
              "      <td>Maturity</td>\n",
              "      <td>3.188241e+07</td>\n",
              "    </tr>\n",
              "    <tr>\n",
              "      <th>147357</th>\n",
              "      <td>188685</td>\n",
              "      <td>ID_3221</td>\n",
              "      <td>2019-01-01</td>\n",
              "      <td>Maturity</td>\n",
              "      <td>1.544304e+07</td>\n",
              "    </tr>\n",
              "    <tr>\n",
              "      <th>147358</th>\n",
              "      <td>188686</td>\n",
              "      <td>ID_3221</td>\n",
              "      <td>2019-02-01</td>\n",
              "      <td>Maturity</td>\n",
              "      <td>2.142099e+07</td>\n",
              "    </tr>\n",
              "    <tr>\n",
              "      <th>147359</th>\n",
              "      <td>188687</td>\n",
              "      <td>ID_3221</td>\n",
              "      <td>2019-03-01</td>\n",
              "      <td>Maturity</td>\n",
              "      <td>1.718661e+07</td>\n",
              "    </tr>\n",
              "    <tr>\n",
              "      <th>147360</th>\n",
              "      <td>188688</td>\n",
              "      <td>ID_3221</td>\n",
              "      <td>2019-04-01</td>\n",
              "      <td>Forecasting</td>\n",
              "      <td>-1.000000e+00</td>\n",
              "    </tr>\n",
              "    <tr>\n",
              "      <th>147361</th>\n",
              "      <td>188689</td>\n",
              "      <td>ID_3221</td>\n",
              "      <td>2019-05-01</td>\n",
              "      <td>Forecasting</td>\n",
              "      <td>-1.000000e+00</td>\n",
              "    </tr>\n",
              "    <tr>\n",
              "      <th>147362</th>\n",
              "      <td>188690</td>\n",
              "      <td>ID_3221</td>\n",
              "      <td>2019-06-01</td>\n",
              "      <td>Forecasting</td>\n",
              "      <td>-1.000000e+00</td>\n",
              "    </tr>\n",
              "    <tr>\n",
              "      <th>147363</th>\n",
              "      <td>188691</td>\n",
              "      <td>ID_3221</td>\n",
              "      <td>2019-07-01</td>\n",
              "      <td>Forecasting</td>\n",
              "      <td>-1.000000e+00</td>\n",
              "    </tr>\n",
              "    <tr>\n",
              "      <th>147364</th>\n",
              "      <td>188692</td>\n",
              "      <td>ID_3221</td>\n",
              "      <td>2019-08-01</td>\n",
              "      <td>Forecasting</td>\n",
              "      <td>-1.000000e+00</td>\n",
              "    </tr>\n",
              "    <tr>\n",
              "      <th>147365</th>\n",
              "      <td>188693</td>\n",
              "      <td>ID_3221</td>\n",
              "      <td>2019-09-01</td>\n",
              "      <td>Forecasting</td>\n",
              "      <td>-1.000000e+00</td>\n",
              "    </tr>\n",
              "    <tr>\n",
              "      <th>147366</th>\n",
              "      <td>188694</td>\n",
              "      <td>ID_3221</td>\n",
              "      <td>2019-10-01</td>\n",
              "      <td>Forecasting</td>\n",
              "      <td>-1.000000e+00</td>\n",
              "    </tr>\n",
              "    <tr>\n",
              "      <th>147367</th>\n",
              "      <td>188695</td>\n",
              "      <td>ID_3221</td>\n",
              "      <td>2019-11-01</td>\n",
              "      <td>Forecasting</td>\n",
              "      <td>-1.000000e+00</td>\n",
              "    </tr>\n",
              "    <tr>\n",
              "      <th>147368</th>\n",
              "      <td>188696</td>\n",
              "      <td>ID_3221</td>\n",
              "      <td>2019-12-01</td>\n",
              "      <td>Forecasting</td>\n",
              "      <td>-1.000000e+00</td>\n",
              "    </tr>\n",
              "    <tr>\n",
              "      <th>147369</th>\n",
              "      <td>188697</td>\n",
              "      <td>ID_3221</td>\n",
              "      <td>2020-01-01</td>\n",
              "      <td>Forecasting</td>\n",
              "      <td>-1.000000e+00</td>\n",
              "    </tr>\n",
              "    <tr>\n",
              "      <th>147370</th>\n",
              "      <td>188698</td>\n",
              "      <td>ID_3221</td>\n",
              "      <td>2020-02-01</td>\n",
              "      <td>Forecasting</td>\n",
              "      <td>-1.000000e+00</td>\n",
              "    </tr>\n",
              "    <tr>\n",
              "      <th>147371</th>\n",
              "      <td>188699</td>\n",
              "      <td>ID_3221</td>\n",
              "      <td>2020-03-01</td>\n",
              "      <td>Forecasting</td>\n",
              "      <td>-1.000000e+00</td>\n",
              "    </tr>\n",
              "    <tr>\n",
              "      <th>147372</th>\n",
              "      <td>188700</td>\n",
              "      <td>ID_3221</td>\n",
              "      <td>2020-04-01</td>\n",
              "      <td>Forecasting</td>\n",
              "      <td>-1.000000e+00</td>\n",
              "    </tr>\n",
              "    <tr>\n",
              "      <th>147373</th>\n",
              "      <td>188701</td>\n",
              "      <td>ID_3221</td>\n",
              "      <td>2020-05-01</td>\n",
              "      <td>Forecasting</td>\n",
              "      <td>-1.000000e+00</td>\n",
              "    </tr>\n",
              "    <tr>\n",
              "      <th>147374</th>\n",
              "      <td>188702</td>\n",
              "      <td>ID_3221</td>\n",
              "      <td>2020-06-01</td>\n",
              "      <td>Forecasting</td>\n",
              "      <td>-1.000000e+00</td>\n",
              "    </tr>\n",
              "    <tr>\n",
              "      <th>147375</th>\n",
              "      <td>188703</td>\n",
              "      <td>ID_3221</td>\n",
              "      <td>2020-07-01</td>\n",
              "      <td>Forecasting</td>\n",
              "      <td>-1.000000e+00</td>\n",
              "    </tr>\n",
              "    <tr>\n",
              "      <th>147376</th>\n",
              "      <td>188704</td>\n",
              "      <td>ID_3221</td>\n",
              "      <td>2020-08-01</td>\n",
              "      <td>Forecasting</td>\n",
              "      <td>-1.000000e+00</td>\n",
              "    </tr>\n",
              "    <tr>\n",
              "      <th>147377</th>\n",
              "      <td>188705</td>\n",
              "      <td>ID_3221</td>\n",
              "      <td>2020-09-01</td>\n",
              "      <td>Forecasting</td>\n",
              "      <td>-1.000000e+00</td>\n",
              "    </tr>\n",
              "    <tr>\n",
              "      <th>147378</th>\n",
              "      <td>188706</td>\n",
              "      <td>ID_3221</td>\n",
              "      <td>2020-10-01</td>\n",
              "      <td>Forecasting</td>\n",
              "      <td>-1.000000e+00</td>\n",
              "    </tr>\n",
              "    <tr>\n",
              "      <th>147379</th>\n",
              "      <td>188707</td>\n",
              "      <td>ID_3221</td>\n",
              "      <td>2020-11-01</td>\n",
              "      <td>Forecasting</td>\n",
              "      <td>-1.000000e+00</td>\n",
              "    </tr>\n",
              "    <tr>\n",
              "      <th>147380</th>\n",
              "      <td>188708</td>\n",
              "      <td>ID_3221</td>\n",
              "      <td>2020-12-01</td>\n",
              "      <td>Forecasting</td>\n",
              "      <td>-1.000000e+00</td>\n",
              "    </tr>\n",
              "    <tr>\n",
              "      <th>147381</th>\n",
              "      <td>188709</td>\n",
              "      <td>ID_3221</td>\n",
              "      <td>2021-01-01</td>\n",
              "      <td>Forecasting</td>\n",
              "      <td>-1.000000e+00</td>\n",
              "    </tr>\n",
              "    <tr>\n",
              "      <th>147382</th>\n",
              "      <td>188710</td>\n",
              "      <td>ID_3221</td>\n",
              "      <td>2021-02-01</td>\n",
              "      <td>Forecasting</td>\n",
              "      <td>-1.000000e+00</td>\n",
              "    </tr>\n",
              "    <tr>\n",
              "      <th>147383</th>\n",
              "      <td>188711</td>\n",
              "      <td>ID_3221</td>\n",
              "      <td>2021-03-01</td>\n",
              "      <td>Forecasting</td>\n",
              "      <td>-1.000000e+00</td>\n",
              "    </tr>\n",
              "    <tr>\n",
              "      <th>147384</th>\n",
              "      <td>188712</td>\n",
              "      <td>ID_3221</td>\n",
              "      <td>2021-04-01</td>\n",
              "      <td>Forecasting</td>\n",
              "      <td>-1.000000e+00</td>\n",
              "    </tr>\n",
              "    <tr>\n",
              "      <th>147385</th>\n",
              "      <td>188713</td>\n",
              "      <td>ID_3221</td>\n",
              "      <td>2021-05-01</td>\n",
              "      <td>Forecasting</td>\n",
              "      <td>-1.000000e+00</td>\n",
              "    </tr>\n",
              "    <tr>\n",
              "      <th>147386</th>\n",
              "      <td>188714</td>\n",
              "      <td>ID_3221</td>\n",
              "      <td>2021-06-01</td>\n",
              "      <td>Forecasting</td>\n",
              "      <td>-1.000000e+00</td>\n",
              "    </tr>\n",
              "    <tr>\n",
              "      <th>147387</th>\n",
              "      <td>188715</td>\n",
              "      <td>ID_3221</td>\n",
              "      <td>2021-07-01</td>\n",
              "      <td>Forecasting</td>\n",
              "      <td>-1.000000e+00</td>\n",
              "    </tr>\n",
              "    <tr>\n",
              "      <th>147388</th>\n",
              "      <td>188716</td>\n",
              "      <td>ID_3221</td>\n",
              "      <td>2021-08-01</td>\n",
              "      <td>Forecasting</td>\n",
              "      <td>-1.000000e+00</td>\n",
              "    </tr>\n",
              "    <tr>\n",
              "      <th>147389</th>\n",
              "      <td>188717</td>\n",
              "      <td>ID_3221</td>\n",
              "      <td>2021-09-01</td>\n",
              "      <td>Forecasting</td>\n",
              "      <td>-1.000000e+00</td>\n",
              "    </tr>\n",
              "    <tr>\n",
              "      <th>147390</th>\n",
              "      <td>188718</td>\n",
              "      <td>ID_3221</td>\n",
              "      <td>2021-10-01</td>\n",
              "      <td>Forecasting</td>\n",
              "      <td>-1.000000e+00</td>\n",
              "    </tr>\n",
              "    <tr>\n",
              "      <th>147391</th>\n",
              "      <td>188719</td>\n",
              "      <td>ID_3221</td>\n",
              "      <td>2021-11-01</td>\n",
              "      <td>Forecasting</td>\n",
              "      <td>-1.000000e+00</td>\n",
              "    </tr>\n",
              "    <tr>\n",
              "      <th>147392</th>\n",
              "      <td>188720</td>\n",
              "      <td>ID_3221</td>\n",
              "      <td>2021-12-01</td>\n",
              "      <td>Forecasting</td>\n",
              "      <td>-1.000000e+00</td>\n",
              "    </tr>\n",
              "    <tr>\n",
              "      <th>147393</th>\n",
              "      <td>188721</td>\n",
              "      <td>ID_3221</td>\n",
              "      <td>2022-01-01</td>\n",
              "      <td>Forecasting</td>\n",
              "      <td>-1.000000e+00</td>\n",
              "    </tr>\n",
              "    <tr>\n",
              "      <th>147394</th>\n",
              "      <td>188722</td>\n",
              "      <td>ID_3221</td>\n",
              "      <td>2022-02-01</td>\n",
              "      <td>Forecasting</td>\n",
              "      <td>-1.000000e+00</td>\n",
              "    </tr>\n",
              "    <tr>\n",
              "      <th>147395</th>\n",
              "      <td>188723</td>\n",
              "      <td>ID_3221</td>\n",
              "      <td>2022-03-01</td>\n",
              "      <td>Forecasting</td>\n",
              "      <td>-1.000000e+00</td>\n",
              "    </tr>\n",
              "    <tr>\n",
              "      <th>147396</th>\n",
              "      <td>188724</td>\n",
              "      <td>ID_3221</td>\n",
              "      <td>2022-04-01</td>\n",
              "      <td>Forecasting</td>\n",
              "      <td>-1.000000e+00</td>\n",
              "    </tr>\n",
              "  </tbody>\n",
              "</table>\n",
              "</div>\n",
              "      <button class=\"colab-df-convert\" onclick=\"convertToInteractive('df-3b15e3b4-b02e-4724-b56d-0bb0073ddc75')\"\n",
              "              title=\"Convert this dataframe to an interactive table.\"\n",
              "              style=\"display:none;\">\n",
              "        \n",
              "  <svg xmlns=\"http://www.w3.org/2000/svg\" height=\"24px\"viewBox=\"0 0 24 24\"\n",
              "       width=\"24px\">\n",
              "    <path d=\"M0 0h24v24H0V0z\" fill=\"none\"/>\n",
              "    <path d=\"M18.56 5.44l.94 2.06.94-2.06 2.06-.94-2.06-.94-.94-2.06-.94 2.06-2.06.94zm-11 1L8.5 8.5l.94-2.06 2.06-.94-2.06-.94L8.5 2.5l-.94 2.06-2.06.94zm10 10l.94 2.06.94-2.06 2.06-.94-2.06-.94-.94-2.06-.94 2.06-2.06.94z\"/><path d=\"M17.41 7.96l-1.37-1.37c-.4-.4-.92-.59-1.43-.59-.52 0-1.04.2-1.43.59L10.3 9.45l-7.72 7.72c-.78.78-.78 2.05 0 2.83L4 21.41c.39.39.9.59 1.41.59.51 0 1.02-.2 1.41-.59l7.78-7.78 2.81-2.81c.8-.78.8-2.07 0-2.86zM5.41 20L4 18.59l7.72-7.72 1.47 1.35L5.41 20z\"/>\n",
              "  </svg>\n",
              "      </button>\n",
              "      \n",
              "  <style>\n",
              "    .colab-df-container {\n",
              "      display:flex;\n",
              "      flex-wrap:wrap;\n",
              "      gap: 12px;\n",
              "    }\n",
              "\n",
              "    .colab-df-convert {\n",
              "      background-color: #E8F0FE;\n",
              "      border: none;\n",
              "      border-radius: 50%;\n",
              "      cursor: pointer;\n",
              "      display: none;\n",
              "      fill: #1967D2;\n",
              "      height: 32px;\n",
              "      padding: 0 0 0 0;\n",
              "      width: 32px;\n",
              "    }\n",
              "\n",
              "    .colab-df-convert:hover {\n",
              "      background-color: #E2EBFA;\n",
              "      box-shadow: 0px 1px 2px rgba(60, 64, 67, 0.3), 0px 1px 3px 1px rgba(60, 64, 67, 0.15);\n",
              "      fill: #174EA6;\n",
              "    }\n",
              "\n",
              "    [theme=dark] .colab-df-convert {\n",
              "      background-color: #3B4455;\n",
              "      fill: #D2E3FC;\n",
              "    }\n",
              "\n",
              "    [theme=dark] .colab-df-convert:hover {\n",
              "      background-color: #434B5C;\n",
              "      box-shadow: 0px 1px 3px 1px rgba(0, 0, 0, 0.15);\n",
              "      filter: drop-shadow(0px 1px 2px rgba(0, 0, 0, 0.3));\n",
              "      fill: #FFFFFF;\n",
              "    }\n",
              "  </style>\n",
              "\n",
              "      <script>\n",
              "        const buttonEl =\n",
              "          document.querySelector('#df-3b15e3b4-b02e-4724-b56d-0bb0073ddc75 button.colab-df-convert');\n",
              "        buttonEl.style.display =\n",
              "          google.colab.kernel.accessAllowed ? 'block' : 'none';\n",
              "\n",
              "        async function convertToInteractive(key) {\n",
              "          const element = document.querySelector('#df-3b15e3b4-b02e-4724-b56d-0bb0073ddc75');\n",
              "          const dataTable =\n",
              "            await google.colab.kernel.invokeFunction('convertToInteractive',\n",
              "                                                     [key], {});\n",
              "          if (!dataTable) return;\n",
              "\n",
              "          const docLinkHtml = 'Like what you see? Visit the ' +\n",
              "            '<a target=\"_blank\" href=https://colab.research.google.com/notebooks/data_table.ipynb>data table notebook</a>'\n",
              "            + ' to learn more about interactive tables.';\n",
              "          element.innerHTML = '';\n",
              "          dataTable['output_type'] = 'display_data';\n",
              "          await google.colab.output.renderOutput(dataTable, element);\n",
              "          const docLink = document.createElement('div');\n",
              "          docLink.innerHTML = docLinkHtml;\n",
              "          element.appendChild(docLink);\n",
              "        }\n",
              "      </script>\n",
              "    </div>\n",
              "  </div>\n",
              "  "
            ]
          },
          "metadata": {},
          "execution_count": 53
        }
      ]
    },
    {
      "cell_type": "markdown",
      "source": [
        "##### Create group to process each prod_id from cluster_id"
      ],
      "metadata": {
        "id": "jT31lvkoyNtV"
      }
    },
    {
      "cell_type": "markdown",
      "source": [
        "##### Detect evaluation intervals by EvalDiff and list positions group by cluster_id"
      ],
      "metadata": {
        "id": "EIUBR2ybYhte"
      }
    },
    {
      "cell_type": "code",
      "source": [
        "#prodList.loc[prodList['cluster_id'] == prod_id]"
      ],
      "metadata": {
        "id": "-Vz-7EftJCQm"
      },
      "execution_count": 54,
      "outputs": []
    },
    {
      "cell_type": "code",
      "source": [
        "#prodList.iloc[prodList.loc[prodList['cluster_id'] == prod_id].index,5] = [DiffList]"
      ],
      "metadata": {
        "id": "rROWvqi2UeUM"
      },
      "execution_count": 55,
      "outputs": []
    },
    {
      "cell_type": "code",
      "source": [
        "#prodList.iloc[prodList.loc[prodList['cluster_id'] == prod_id].index,6].tolist"
      ],
      "metadata": {
        "id": "ASCCwPvmjD22"
      },
      "execution_count": 56,
      "outputs": []
    },
    {
      "cell_type": "code",
      "source": [
        "# Select element by index. Examples\n",
        "prodList.loc[prodList['cluster_id']== 'ID_65'].idxGroup.iloc[0][0]"
      ],
      "metadata": {
        "id": "vaydnVei7-7W",
        "colab": {
          "base_uri": "https://localhost:8080/"
        },
        "outputId": "d9ea146c-cd23-40e7-c97f-c92e9eb077b1"
      },
      "execution_count": 57,
      "outputs": [
        {
          "output_type": "execute_result",
          "data": {
            "text/plain": [
              "3454"
            ]
          },
          "metadata": {},
          "execution_count": 57
        }
      ]
    },
    {
      "cell_type": "code",
      "source": [
        "# Select element by index. Examples\n",
        "prodList.loc[prodList['cluster_id'].isin(['ID_65'])].idxLtrans.iloc[0][0]"
      ],
      "metadata": {
        "colab": {
          "base_uri": "https://localhost:8080/"
        },
        "outputId": "83eccb29-09a4-43df-b997-ca4424430e29",
        "id": "vDZUAjO27-7X"
      },
      "execution_count": 58,
      "outputs": [
        {
          "output_type": "execute_result",
          "data": {
            "text/plain": [
              "3509"
            ]
          },
          "metadata": {},
          "execution_count": 58
        }
      ]
    },
    {
      "cell_type": "markdown",
      "source": [
        "##### Create a submission1 csv file from prodList"
      ],
      "metadata": {
        "id": "m1c9OTvr5zVh"
      }
    },
    {
      "cell_type": "code",
      "source": [
        "!ls -l metric_one.csv"
      ],
      "metadata": {
        "colab": {
          "base_uri": "https://localhost:8080/"
        },
        "outputId": "3fd22077-b030-406f-80d4-4daff79de719",
        "id": "rFVUNJyr6Sac"
      },
      "execution_count": 59,
      "outputs": [
        {
          "output_type": "stream",
          "name": "stdout",
          "text": [
            "-rw-r--r-- 1 root root 73088 Nov 28 21:07 metric_one.csv\n"
          ]
        }
      ]
    },
    {
      "cell_type": "code",
      "source": [
        "!head metric_one.csv"
      ],
      "metadata": {
        "colab": {
          "base_uri": "https://localhost:8080/"
        },
        "outputId": "8d971416-4ddd-48aa-f225-d3f21edf2db9",
        "id": "YZRGqrRs6Sad"
      },
      "execution_count": 60,
      "outputs": [
        {
          "output_type": "stream",
          "name": "stdout",
          "text": [
            ",cluster_id,transition_date,is_transition\n",
            "0,ID_3,<class 'datetime.date'>,<class 'str'>\n",
            "1,ID_5,<class 'datetime.date'>,<class 'str'>\n",
            "2,ID_8,<class 'datetime.date'>,<class 'str'>\n",
            "3,ID_9,<class 'datetime.date'>,<class 'str'>\n",
            "4,ID_11,<class 'datetime.date'>,<class 'str'>\n",
            "5,ID_12,<class 'datetime.date'>,<class 'str'>\n",
            "6,ID_16,<class 'datetime.date'>,<class 'str'>\n",
            "7,ID_17,<class 'datetime.date'>,<class 'str'>\n",
            "8,ID_18,<class 'datetime.date'>,<class 'str'>\n"
          ]
        }
      ]
    },
    {
      "cell_type": "code",
      "source": [
        "!tail metric_one.csv"
      ],
      "metadata": {
        "colab": {
          "base_uri": "https://localhost:8080/"
        },
        "outputId": "24edd0fe-a15d-4ddc-94c5-f7eeb20ebc60",
        "id": "2FKgygQ26Saf"
      },
      "execution_count": 61,
      "outputs": [
        {
          "output_type": "stream",
          "name": "stdout",
          "text": [
            "1454,ID_3201,<class 'datetime.date'>,<class 'str'>\n",
            "1455,ID_3202,<class 'datetime.date'>,<class 'str'>\n",
            "1456,ID_3204,<class 'datetime.date'>,<class 'str'>\n",
            "1457,ID_3207,<class 'datetime.date'>,<class 'str'>\n",
            "1458,ID_3211,<class 'datetime.date'>,<class 'str'>\n",
            "1459,ID_3212,<class 'datetime.date'>,<class 'str'>\n",
            "1460,ID_3214,<class 'datetime.date'>,<class 'str'>\n",
            "1461,ID_3215,<class 'datetime.date'>,<class 'str'>\n",
            "1462,ID_3218,<class 'datetime.date'>,<class 'str'>\n",
            "1463,ID_3221,<class 'datetime.date'>,<class 'str'>\n"
          ]
        }
      ]
    },
    {
      "cell_type": "code",
      "source": [],
      "metadata": {
        "id": "hf1YcKGY6YzQ"
      },
      "execution_count": 61,
      "outputs": []
    },
    {
      "cell_type": "markdown",
      "source": [
        "#### Create a submission2 csv file from prodList"
      ],
      "metadata": {
        "id": "yll9qoUm8P2a"
      }
    },
    {
      "cell_type": "code",
      "source": [
        "!ls -l metric_two.csv"
      ],
      "metadata": {
        "colab": {
          "base_uri": "https://localhost:8080/"
        },
        "outputId": "5d25115e-cfde-499f-9056-a60289cbd5c5",
        "id": "rJT_cf-a8P2f"
      },
      "execution_count": 62,
      "outputs": [
        {
          "output_type": "stream",
          "name": "stdout",
          "text": [
            "-rw-r--r-- 1 root root 73072 Nov 28 21:07 metric_two.csv\n"
          ]
        }
      ]
    },
    {
      "cell_type": "code",
      "source": [
        "!head metric_two.csv"
      ],
      "metadata": {
        "colab": {
          "base_uri": "https://localhost:8080/"
        },
        "outputId": "3c5a984b-22d9-4cd3-b32a-71119c4054d5",
        "id": "mPDW3w2u8P2f"
      },
      "execution_count": 63,
      "outputs": [
        {
          "output_type": "stream",
          "name": "stdout",
          "text": [
            ",cluster_id,date,forecast\n",
            "0,ID_3,<class 'datetime.date'>,<class 'int'>\n",
            "1,ID_5,<class 'datetime.date'>,<class 'int'>\n",
            "2,ID_8,<class 'datetime.date'>,<class 'int'>\n",
            "3,ID_9,<class 'datetime.date'>,<class 'int'>\n",
            "4,ID_11,<class 'datetime.date'>,<class 'int'>\n",
            "5,ID_12,<class 'datetime.date'>,<class 'int'>\n",
            "6,ID_16,<class 'datetime.date'>,<class 'int'>\n",
            "7,ID_17,<class 'datetime.date'>,<class 'int'>\n",
            "8,ID_18,<class 'datetime.date'>,<class 'int'>\n"
          ]
        }
      ]
    },
    {
      "cell_type": "code",
      "source": [
        "!tail metric_two.csv"
      ],
      "metadata": {
        "colab": {
          "base_uri": "https://localhost:8080/"
        },
        "outputId": "6b582e37-bd38-4ce2-b3d1-b093759546ee",
        "id": "q42BEX2q8P2g"
      },
      "execution_count": 64,
      "outputs": [
        {
          "output_type": "stream",
          "name": "stdout",
          "text": [
            "1454,ID_3201,<class 'datetime.date'>,<class 'int'>\n",
            "1455,ID_3202,<class 'datetime.date'>,<class 'int'>\n",
            "1456,ID_3204,<class 'datetime.date'>,<class 'int'>\n",
            "1457,ID_3207,<class 'datetime.date'>,<class 'int'>\n",
            "1458,ID_3211,<class 'datetime.date'>,<class 'int'>\n",
            "1459,ID_3212,<class 'datetime.date'>,<class 'int'>\n",
            "1460,ID_3214,<class 'datetime.date'>,<class 'int'>\n",
            "1461,ID_3215,<class 'datetime.date'>,<class 'int'>\n",
            "1462,ID_3218,<class 'datetime.date'>,<class 'int'>\n",
            "1463,ID_3221,<class 'datetime.date'>,<class 'int'>\n"
          ]
        }
      ]
    }
  ]
}